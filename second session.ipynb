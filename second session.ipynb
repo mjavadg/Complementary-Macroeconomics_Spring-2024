{
 "cells": [
  {
   "cell_type": "markdown",
   "id": "45f3b217-4174-4c17-873c-91070ed64d11",
   "metadata": {},
   "source": [
    "<div dir = \"rtl\">\n",
    "\n",
    "\n",
    "### پایتون زبان برنامه‌نویسی سطح بالا است که یعنی زبانی است که از زبان ماشین دور است و از متغیرها، آرایه‌ها و عبارات پیچیده ریاضی و منطقی استفاده می‌نماید. پایتون به راحتی قابل خواندن و برای نمونه صفر و یکی نیست. پایتون در برنامه های مختلف و مطرحی مانند الکسا، سیری و کورتانا استفاده می شود و چون زبانی منعطف است کاربردش محدود به قابلیت شناسایی صدا که در سه برنامه ذکر شده آمد محدود نمی شود و بلکه از آن برای تحلیل های علم داده و توسعه برنامه های هوش مصنوعی استفاده می شود و حتی ناسا نیز از آن استفاده می کند. "
   ]
  },
  {
   "cell_type": "markdown",
   "id": "cbe4f4f1-dab9-4eb7-9d06-9c7c9ea85ce5",
   "metadata": {},
   "source": [
    "https://www.ncesc.com/geographic-pedia/why-does-nasa-use-python/"
   ]
  },
  {
   "cell_type": "markdown",
   "id": "a93d5715-7635-4a04-9eb6-b45f17fe75d6",
   "metadata": {},
   "source": [
    "<div dir = \"rtl\">\n",
    "(منبعی خوب برای کاربرد های برنامه نویسی (پایتون و جولیا) در اقتصاد و دانش مالی)"
   ]
  },
  {
   "cell_type": "markdown",
   "id": "53fc3914",
   "metadata": {},
   "source": [
    "https://www.Quantecon.org "
   ]
  },
  {
   "cell_type": "markdown",
   "id": "300617b7-afda-476d-ad1d-bb99bbdb623f",
   "metadata": {},
   "source": [
    "# دستورات ابتدایی و انواع متغیرها"
   ]
  },
  {
   "cell_type": "code",
   "execution_count": 2,
   "id": "3cf0ebb2-31b5-4e3f-8e36-86992f511a45",
   "metadata": {},
   "outputs": [
    {
     "name": "stdout",
     "output_type": "stream",
     "text": [
      "1 7\n",
      "2 2+5\n",
      "3 7\n",
      "4 a+b\n"
     ]
    }
   ],
   "source": [
    "a = 2\n",
    "b = 5\n",
    "\n",
    "print(1, 2+5)\n",
    "print(2, \"2+5\")\n",
    "print(3, a+b)\n",
    "print(4, \"a+b\")\n"
   ]
  },
  {
   "cell_type": "markdown",
   "id": "84618bd4-2f76-4f3b-b46e-2842f23ab6e4",
   "metadata": {},
   "source": [
    "<div dir = \"rtl\">\n",
    "\n",
    "علت اینکه پایتون کد اول را محاسبه می کند و دومی را محاسبه نمی کند این است که اعداد به تنهایی خودشان در پایتون قابل شناسایی هستند و در اینجا به عنوان عدد صحیح در نظر گرفته می شوند اما هنگامی که در \"\" قرار بگیرند دیگر عدد صحیح نیستند و تبدیل به استرینگ می شوند و پایتون از استرینگ ها درست همانطور که تایپ شده اند خروجی می گیرد.\n",
    "\n",
    "در خصوص کد سوم و چهارم نیز همین منطق برقرار است. در کد سوم چون برای متغیرها داده ای (عدد صحیح) در نظر گرفته شده است پایتون عملیات جمع را انجام می دهد اما اگر از \"\" استفاده کنیم پایتون آن را به صورت یک استرینگ در نظر می گیرد."
   ]
  },
  {
   "cell_type": "code",
   "execution_count": 3,
   "id": "ab9fb147-2061-4389-aa54-33863e6412ea",
   "metadata": {},
   "outputs": [
    {
     "name": "stdout",
     "output_type": "stream",
     "text": [
      "python for economics\n"
     ]
    }
   ],
   "source": [
    "print(\"python for economics\")"
   ]
  },
  {
   "cell_type": "code",
   "execution_count": 6,
   "id": "2d94719e-42cd-4071-9ad9-fda6d0e4cec7",
   "metadata": {},
   "outputs": [
    {
     "ename": "NameError",
     "evalue": "name 'name' is not defined",
     "output_type": "error",
     "traceback": [
      "\u001b[1;31m---------------------------------------------------------------------------\u001b[0m",
      "\u001b[1;31mNameError\u001b[0m                                 Traceback (most recent call last)",
      "\u001b[1;32m~\\AppData\\Local\\Temp\\ipykernel_25404\\2122694447.py\u001b[0m in \u001b[0;36m<module>\u001b[1;34m\u001b[0m\n\u001b[1;32m----> 1\u001b[1;33m \u001b[0mprint\u001b[0m\u001b[1;33m(\u001b[0m\u001b[0mname\u001b[0m\u001b[1;33m)\u001b[0m\u001b[1;33m\u001b[0m\u001b[1;33m\u001b[0m\u001b[0m\n\u001b[0m",
      "\u001b[1;31mNameError\u001b[0m: name 'name' is not defined"
     ]
    }
   ],
   "source": [
    "print(name)"
   ]
  },
  {
   "cell_type": "markdown",
   "id": "716b75ca-f7f0-4f08-a4d3-c610421c8e4f",
   "metadata": {},
   "source": [
    "<div dir = \"rtl\">\n",
    "\n",
    "خطای بالا به علت این است که از پایتون می خواهیم خروجی متغیر name را بدهد ولی آن از قبل تعیین نکردیم."
   ]
  },
  {
   "cell_type": "code",
   "execution_count": 9,
   "id": "06f191df-4ca7-48bb-b8c2-aa2893193026",
   "metadata": {},
   "outputs": [
    {
     "name": "stdout",
     "output_type": "stream",
     "text": [
      "Helia\n",
      "Hesami\n"
     ]
    }
   ],
   "source": [
    "name = \"Helia\"\n",
    "surname = \"Hesami\"\n",
    "\n",
    "print(name)\n",
    "print(surname)"
   ]
  },
  {
   "cell_type": "markdown",
   "id": "6db527f2-0ab0-4b0c-ac0f-6f83c3d001b7",
   "metadata": {},
   "source": [
    "<div dir = \"rtl\">\n",
    "\n",
    "در کد بالا متغیرها تعریف شدند و بنابراین خطا برطرف شد."
   ]
  },
  {
   "cell_type": "code",
   "execution_count": 10,
   "id": "99ea956f-b2c6-4dde-80c0-ced28fc238ae",
   "metadata": {},
   "outputs": [
    {
     "name": "stdout",
     "output_type": "stream",
     "text": [
      "HeliaHesami\n"
     ]
    }
   ],
   "source": [
    "print(name+surname)"
   ]
  },
  {
   "cell_type": "markdown",
   "id": "faac43e9-40ec-4b6c-acc3-abbc013feb03",
   "metadata": {},
   "source": [
    "<div dir = \"rtl\">\n",
    "\n",
    "چون در واقع دو اسم (استرینگ) نوشته ایم باید از هم جدا شوند ولی چون از + استفاده کردیم پایتون آن ها را کنار هم می آورد. برای ایجاد فاصله می توانیم از دستورهای زیر استفاده کنیم"
   ]
  },
  {
   "cell_type": "code",
   "execution_count": 11,
   "id": "8951f66b-34af-4245-a924-edab12b9b934",
   "metadata": {},
   "outputs": [
    {
     "name": "stdout",
     "output_type": "stream",
     "text": [
      "Helia Hesami\n",
      "Helia Hesami\n"
     ]
    }
   ],
   "source": [
    "print(name+ \" \"+surname)\n",
    "print(name, surname)"
   ]
  },
  {
   "cell_type": "markdown",
   "id": "77b9f02b-cc12-4b9b-8ec3-acb5949b75a5",
   "metadata": {},
   "source": [
    "<div dir = \"rtl\">\n",
    "\n",
    "نوع دیگر داده ها که در پایتون با آن برخورد می کنیم اعداد اعشاری است"
   ]
  },
  {
   "cell_type": "code",
   "execution_count": 12,
   "id": "d5867281-9d75-44d0-b750-cdafdee24a72",
   "metadata": {},
   "outputs": [
    {
     "name": "stdout",
     "output_type": "stream",
     "text": [
      "7.98\n"
     ]
    }
   ],
   "source": [
    "print(2.5 + 5.48)"
   ]
  },
  {
   "cell_type": "code",
   "execution_count": 13,
   "id": "364e0446-baa0-4cf9-b61a-b757f81515a3",
   "metadata": {},
   "outputs": [
    {
     "name": "stdout",
     "output_type": "stream",
     "text": [
      "<class 'float'>\n"
     ]
    }
   ],
   "source": [
    "pi = 3.14\n",
    "print(type(pi))"
   ]
  },
  {
   "cell_type": "markdown",
   "id": "23f53f27-45eb-4f93-820c-39cfdeb36263",
   "metadata": {},
   "source": [
    "<div dir = \"rtl\">\n",
    "\n",
    "برای اینکه بدانیم داده ای که داریم از چه نوع است می توانیم از دستور تایپ بهره ببریم"
   ]
  },
  {
   "cell_type": "code",
   "execution_count": 15,
   "id": "629fee41-36c7-41f4-9f6a-5042f5b14d2e",
   "metadata": {},
   "outputs": [
    {
     "name": "stdout",
     "output_type": "stream",
     "text": [
      "<class 'int'>\n",
      "<class 'str'>\n",
      "<class 'float'>\n"
     ]
    }
   ],
   "source": [
    "print(type(a))\n",
    "print(type(name))\n",
    "print(type(pi))"
   ]
  },
  {
   "cell_type": "markdown",
   "id": "475d8a26-4999-49a4-a45f-46c34eda8bff",
   "metadata": {},
   "source": [
    "<div dir = \"rtl\">\n",
    "\n",
    "می توان از دو یا چند متغیر برای چند متغیر نیز استفاده کرد"
   ]
  },
  {
   "cell_type": "code",
   "execution_count": 16,
   "id": "480bfeb5-595e-429e-8ea7-1cc5f419dd47",
   "metadata": {},
   "outputs": [],
   "source": [
    "fullname = name+surname"
   ]
  },
  {
   "cell_type": "code",
   "execution_count": 18,
   "id": "145d2fa1-7cb9-4895-bce1-745bfaf010e0",
   "metadata": {},
   "outputs": [
    {
     "name": "stdout",
     "output_type": "stream",
     "text": [
      "HeliaHesami  \n"
     ]
    }
   ],
   "source": [
    "print(fullname)"
   ]
  },
  {
   "cell_type": "code",
   "execution_count": 19,
   "id": "e298b5d4-772d-4192-b101-b3139364707d",
   "metadata": {},
   "outputs": [
    {
     "name": "stdout",
     "output_type": "stream",
     "text": [
      "<class 'str'>\n"
     ]
    }
   ],
   "source": [
    "print(type(fullname))"
   ]
  },
  {
   "cell_type": "markdown",
   "id": "56938edf-47a9-4806-90ab-fa30a6522181",
   "metadata": {},
   "source": [
    "<div dir = \"rtl\">\n",
    "\n",
    "همانطور که انتظار می رفت ترکیب دو متغیر نوع استرینگ را خروجی داد اما ترکیب یک استرینگ و یک عدد صحیح چه می دهد؟"
   ]
  },
  {
   "cell_type": "code",
   "execution_count": 22,
   "id": "0336149e-450c-4cab-a351-e4c19f402e4b",
   "metadata": {},
   "outputs": [
    {
     "ename": "TypeError",
     "evalue": "can only concatenate str (not \"int\") to str",
     "output_type": "error",
     "traceback": [
      "\u001b[1;31m---------------------------------------------------------------------------\u001b[0m",
      "\u001b[1;31mTypeError\u001b[0m                                 Traceback (most recent call last)",
      "\u001b[1;32m~\\AppData\\Local\\Temp\\ipykernel_25404\\2452670752.py\u001b[0m in \u001b[0;36m<module>\u001b[1;34m\u001b[0m\n\u001b[1;32m----> 1\u001b[1;33m \u001b[0mprint\u001b[0m\u001b[1;33m(\u001b[0m\u001b[0mname\u001b[0m\u001b[1;33m+\u001b[0m\u001b[0ma\u001b[0m\u001b[1;33m)\u001b[0m\u001b[1;33m\u001b[0m\u001b[1;33m\u001b[0m\u001b[0m\n\u001b[0m",
      "\u001b[1;31mTypeError\u001b[0m: can only concatenate str (not \"int\") to str"
     ]
    }
   ],
   "source": [
    "print(name+a)"
   ]
  },
  {
   "cell_type": "markdown",
   "id": "1acb7c95-a7ee-45c5-9d6b-92779d38a00f",
   "metadata": {},
   "source": [
    "<div dir = \"rtl\">\n",
    "\n",
    "\n",
    "خطایی که به وجود آمده به علت این است که نمی توان دو نوع متفاوت متغیر را کنار هم به راحتی پرینت گرفت و جهت اینکار باید از روش های دیگری استفاده کرد که در جلسه بعد به آن می پردازیم."
   ]
  },
  {
   "cell_type": "markdown",
   "id": "98034b49-acf8-4695-8a2f-d84fd4f66dbb",
   "metadata": {},
   "source": [
    "<div dir = \"rtl\">\n",
    "\n",
    "# عملیات‌های ریاضی و بولین‌ها"
   ]
  },
  {
   "cell_type": "code",
   "execution_count": 29,
   "id": "588090d1-d3fb-4bed-9d96-88d3a7615947",
   "metadata": {},
   "outputs": [
    {
     "name": "stdout",
     "output_type": "stream",
     "text": [
      "1. multiplication of 2 and 3 =  6\n",
      "2. 2 to power of 3 =  8\n",
      "3. 6 divided by 2 =  3.0\n",
      "4. remainder of 10 divided by 3 =  1\n",
      "5. discard remainder of 10/2 =  5\n"
     ]
    }
   ],
   "source": [
    "print(\"1. multiplication of 2 and 3 = \", 2*3) #ضرب \n",
    "print(\"2. 2 to power of 3 = \", 2**3) #توان\n",
    "print(\"3. 6 divided by 2 = \", 6/2) #تقسیم\n",
    "print(\"4. remainder of 10 divided by 3 = \", 10%3) #باقی مانده تقسیم\n",
    "print(\"5. discard remainder of 10/2 = \", 10//2) #خارج قسمت تقسیم"
   ]
  },
  {
   "cell_type": "markdown",
   "id": "fc4257c3-4f71-486a-bb8c-939df43991d5",
   "metadata": {},
   "source": [
    "<div dir = \"rtl\">\n",
    "\n",
    "بولین ها مربوط به سیستم های ترکیبی هستند که توسط جورج بول ایجاد شدند. این سیستم قضایا را به همراه عملیات های منطقی و، یا، نقیض، و ... ترکیب می کند. در شکل زیر جدولی از مثال این ترکیبات آورده شده است."
   ]
  },
  {
   "cell_type": "code",
   "execution_count": 32,
   "id": "15169506-2f88-42cc-a6f4-ced9935ed1db",
   "metadata": {},
   "outputs": [
    {
     "data": {
      "image/png": "[encoded data removed]",
      "text/plain": [
       "<Figure size 640x480 with 1 Axes>"
      ]
     },
     "metadata": {},
     "output_type": "display_data"
    }
   ],
   "source": [
    "import matplotlib.pyplot as plt\n",
    "import matplotlib.image as mpimg\n",
    "\n",
    "img = mpimg.imread (r'D:\\logic.jpg')\n",
    "plt.imshow(img)\n",
    "plt.show()"
   ]
  },
  {
   "cell_type": "markdown",
   "id": "4c5d756d",
   "metadata": {},
   "source": [
    "source of the table: An Introduction to Mathematical Analysis for Economic Theory and Econometrics; Dean Corbae, Maxwell B. Stinchcombe, Juraj Zeman "
   ]
  },
  {
   "cell_type": "markdown",
   "id": "2827c8e9-c685-4c76-bb9c-0353633bc61f",
   "metadata": {},
   "source": [
    "<div dir = \"rtl\">\n",
    "\n",
    "در جدول سمت راست، شهودی از بولین ها به وسیله نمایش مجموعه ای آورده شده است. \n",
    "در خط اول چون ایکس عضو هر دو مجموعه A و B است پس ایکس هم در اشتراک آنهاست و هم در اجتماع آنها ولی در خط دوم چون ایکس در مجموعه B نیست، در اشتراک آنها نیز نخواهد ولی در مجموعه اجتماع آنها خواهد بود. از نظر منطقی اشتراک و است و اجتماع یا. یعنی به اصطلاح هنگامی که در خصوص اجتماع صحبت می کنیم، می گوییم ایکس یا در مجموعه A هست یا در B، زیرا در هر صورت در اجتماع آن ها خواهد بود اما وقتی درباره اشتراک سخن می گوییم از ایکس به گونه ای یاد می کنیم که انگار در هر دو مجموعه است (ایکس در A و در B است). حال اگر چنین نباشد (ایکس در یکی از آن دو مجموعه نباشد) در اشتراکشان نخواهد بود. \n",
    "بدیهی است که وقتی ایکس عضو مجموعه A است در مکمل آن نیست.\n",
    "\n",
    "در جدول سمت چپ، گزاره ها و صدق و کذب آن ها آمده که تقریبا همانند جدول راست است ولی کاربرد گسترده تری دارد. در بحث مجموعه ای تنها در خصوص عضو بودن یا نبودن یک عنصر در یک مجموعه می توان سخن گفت (برای نمونه اگر ایکس در A باشد، در مکمل آن نیست و در نتیجه گزاره ای که بگوید ایکس در مکمل مجموعه A است کاذب است) ولی در بحث گزاره های منطقی درباره صدق و کذب موارد گسترده تری می توان صحبت کرد. \n",
    "\n",
    "در خط اول جدول سمت راست اگر قضیه های A و B صادق باشند. قضیه مشمول بودن هر دو صادق است (و) و قضیه ای که مشمول صادق بودن یکی از آن ها باشد نیز صادق است (یا).\n",
    "برای مثال دو قضیه زیر را در نظر بگیرید.\n",
    "1. ایران کشور است\n",
    "2. ایران در خاورمیانه است\n",
    "حکم اول: ایران کشور است و در خاورمیانه است\n",
    "حکم دوم: ایران کشور است یا در خاورمیانه است\n",
    "که هر دو حکم درست هستند.\n",
    "\n",
    "در خط دوم سمت چپ، حکم اول به شکل زیر می شود (فرض کنیم قضیه B می گوید ایران در خاورمیانه نیست)\n",
    "- ایران کشور است و در خاورمیانه نیست\n",
    "و حکم دوم نیز برابر \n",
    "- ایران کشور است یا در خاورمیانه نیست\n",
    "خواهد بود. که حکم اول کاذب است اما حکم دوم صادق.\n",
    "\n",
    "سایر حکم ها نیز به همین ترتیب خواهند بود."
   ]
  },
  {
   "cell_type": "code",
   "execution_count": 36,
   "id": "86a461ca-14ef-47e6-af0f-2d9b48605b4e",
   "metadata": {},
   "outputs": [
    {
     "name": "stdout",
     "output_type": "stream",
     "text": [
      "1 True\n",
      "2 True\n",
      "3 True\n",
      "4 True\n",
      "5 False\n",
      "6 True\n"
     ]
    }
   ],
   "source": [
    "first_statement = \"Iran is a country\" #قضیه اول\n",
    "second_statement = \"Iran is in middle east\" #قضیه دوم\n",
    "\n",
    "print(1, first_statement == \"Iran is a country\")\n",
    "print(2, second_statement == \"Iran is in middle east\")\n",
    "print(3, first_statement == \"Iran is a country\" and second_statement == \"Iran is in middle east\")\n",
    "print(4, first_statement == \"Iran is a country\" or second_statement == \"Iran is in middle east\")\n",
    "\n",
    "print(5, first_statement == \"Iran is a country\" and second_statement == \"Iran is not in middle east\") #قضیه دوم تغییر کرد\n",
    "print(6, first_statement == \"Iran is a country\" or second_statement == \"Iran is not in middle east\") #قضیه دوم تغییر کرد"
   ]
  },
  {
   "cell_type": "markdown",
   "id": "c594f1b4-d72e-44b7-9823-56efe18695fc",
   "metadata": {},
   "source": [
    "<div dir = \"rtl\">\n",
    "\n",
    "همانطور که در مثال های بولین بالا مشاهده می شود برای اجرای کد صادق یا کاذب بودن از == استفاده می کنیم و مشخص شده که گزاره پنجم که در آن قضیه دوم تغییر کرده باعث شده کل حکم کاذب شود چون ترکیب و بکار رفته است. \n",
    "اکنون در ادامه از نقیض استفاده می کنیم"
   ]
  },
  {
   "cell_type": "code",
   "execution_count": 37,
   "id": "7b78a4b5-33f1-460d-99c9-8f4865709c09",
   "metadata": {},
   "outputs": [
    {
     "name": "stdout",
     "output_type": "stream",
     "text": [
      "7 False\n",
      "8 False\n",
      "9 False\n",
      "10 False\n",
      "11 True\n",
      "12 False\n",
      "13 False\n",
      "14 True\n",
      "15 False\n",
      "16 False\n"
     ]
    }
   ],
   "source": [
    "print(7, not first_statement == \"Iran is a country\")\n",
    "print(8, not second_statement == \"Iran is in middle east\")\n",
    "print(9, not first_statement == \"Iran is a country\" and second_statement == \"Iran is in middle east\")\n",
    "print(10, not (first_statement == \"Iran is a country\" and second_statement == \"Iran is in middle east\"))\n",
    "print(11, not first_statement == \"Iran is a country\" or second_statement == \"Iran is in middle east\")\n",
    "print(12, not (first_statement == \"Iran is a country\" or second_statement == \"Iran is in middle east\"))\n",
    "\n",
    "\n",
    "print(13, not first_statement == \"Iran is a country\" and second_statement == \"Iran is not in middle east\")\n",
    "print(14, not (first_statement == \"Iran is a country\" and second_statement == \"Iran is not in middle east\"))\n",
    "\n",
    "print(15, not first_statement == \"Iran is a country\" or second_statement == \"Iran is not in middle east\") \n",
    "print(16, not (first_statement == \"Iran is a country\" or second_statement == \"Iran is not in middle east\"))\n"
   ]
  },
  {
   "cell_type": "markdown",
   "id": "277e387f-3b7b-4a87-9955-1c84b17e2bac",
   "metadata": {},
   "source": [
    "<div dir = \"rtl\">\n",
    "\n",
    "قضیه هفتم کاذب شده چون ایران کشور است و نقیض آن کاذب.\n",
    "قضیه هشتم هم مانند قضیه هفتم است.\n",
    "قضیه نهم مانند قضیه سوم است و از و استفاده شده و تنها تفاوت در نقیض بودن گزاره اول است که باعث شده کل حکم کاذب شود.\n",
    "قضیه دهم هر دو قضیه را نقیض در نظر گرفته که طبیعتا کاذب خواهد بود.\n",
    "قضیه یازدهم به دلیل وجود یا صادق مانده اما قضیه دوازدهم چون هر دو را نقض کرده کاذب است. مانند این است بگوییم که ایکس نه در مجموعه اِی است و نه در بی، آیا در اجتماع آنها خواهد بود؟ خیر\n",
    "\n",
    "چهار قضیه باقی با این تفاوت آمده اند که قضیه دومشان نقض شده، همانند قضایای پنج و شش."
   ]
  },
  {
   "cell_type": "markdown",
   "id": "9114a802-7b1f-494d-b06b-9c2bc7ee40f7",
   "metadata": {},
   "source": [
    "<div dir = \"rtl\">\n",
    "\n",
    "# کامنت گذاشتن و توضیح دادن کد"
   ]
  },
  {
   "cell_type": "markdown",
   "id": "01636177-f339-4747-945b-77686da5c0bf",
   "metadata": {},
   "source": [
    "<div dir = \"rtl\">\n",
    "\n",
    "همانطور که در کدهای بالا مشاهده کردید از # استفاده شده بود تا در مقابل کد توضیحی آورده شود. استفاده از کامنت باعث می شود تا خواننده بداند هدف قسمتی از کد چیست یا اگر تغییری در آن داده شده، آن تغییر چه بوده. این کار به خواننده کمک می کند تا سریعتر و بهتر کد را درک کند.\n"
   ]
  },
  {
   "cell_type": "code",
   "execution_count": 39,
   "id": "02300f84-99f1-4dee-9648-912377ea5567",
   "metadata": {},
   "outputs": [
    {
     "name": "stdout",
     "output_type": "stream",
     "text": [
      "What is you name?  Babak\n"
     ]
    },
    {
     "name": "stdout",
     "output_type": "stream",
     "text": [
      "your name is Babak\n"
     ]
    }
   ],
   "source": [
    "Your_name = input(\"What is you name? \") #از تابع اینپوت جهت گرفتن داده از کاربر استفاده می کنیم\n",
    "print(\"your name is\", Your_name)\n"
   ]
  },
  {
   "cell_type": "markdown",
   "id": "a64bc83e-c2f3-47dd-8ff8-7279148bcb5b",
   "metadata": {},
   "source": [
    "<div dir = \"rtl\">\n",
    "\n",
    "در مثال بالا در مقابل تابع اینپوت توضیحی آورده شده چون در آخرین جلسه کلاس فرصت نشد بحثش پوشش داده شود. پس در کل به وسیله # توضیحی می توان اضافه کرد.\n",
    "گاهی اوقات توضیحات بیشتری لازم است که از روش زیر استفاده می کنیم."
   ]
  },
  {
   "cell_type": "code",
   "execution_count": 53,
   "id": "af8937c3-c9ce-407e-939b-954b6a2e15ca",
   "metadata": {},
   "outputs": [
    {
     "name": "stdout",
     "output_type": "stream",
     "text": [
      "how old are you?  11\n"
     ]
    },
    {
     "name": "stdout",
     "output_type": "stream",
     "text": [
      "you are 11 years old\n"
     ]
    },
    {
     "data": {
      "text/plain": [
       "' زمانی که کاربر داده ای را وارد می کند برای آن متغیر ذخیره می شود. در مثال کنونی یور اِیج یک متغیر است که کاربر باید آن را وارد کند و زمانی که وارد کند متغیر با آن داده ذخیره می شود و در دستورهای بعدی قابل اجرا خواهد بود '"
      ]
     },
     "execution_count": 53,
     "metadata": {},
     "output_type": "execute_result"
    }
   ],
   "source": [
    "Your_age = input(\"how old are you? \")\n",
    "print (\"you are\", Your_age, \"years old\")\n",
    "''' زمانی که کاربر داده ای را وارد می کند برای آن متغیر ذخیره می شود. در مثال کنونی یور اِیج یک متغیر است که کاربر باید آن را وارد کند و زمانی که وارد کند متغیر با آن داده ذخیره می شود و در دستورهای بعدی قابل اجرا خواهد بود '''"
   ]
  },
  {
   "cell_type": "markdown",
   "id": "5ce15468-07ec-401e-b0d3-07be3492ad4b",
   "metadata": {},
   "source": [
    "<div dir = \"rtl\">\n",
    "\n",
    "اگر متن را بین \"\"\" و \"\"\" بگذاریم داکسترینگ خواهد شد و پرینت می گردد. می توان از دستور پرینت استفاده کرد تا '' در دو طرف متن حاضر نشوند."
   ]
  },
  {
   "cell_type": "code",
   "execution_count": 56,
   "id": "9e7e719f-b2da-4728-8dd2-d30d09efecd4",
   "metadata": {},
   "outputs": [
    {
     "name": "stdout",
     "output_type": "stream",
     "text": [
      "how old are you?  11\n"
     ]
    },
    {
     "name": "stdout",
     "output_type": "stream",
     "text": [
      "you are 11 years old\n",
      " زمانی که کاربر داده ای را وارد می کند برای آن متغیر ذخیره می شود. در مثال کنونی یور اِیج یک متغیر است که کاربر باید آن را وارد کند و زمانی که وارد کند متغیر با آن داده ذخیره می شود و در دستورهای بعدی قابل اجرا خواهد بود \n"
     ]
    }
   ],
   "source": [
    "Your_age = input(\"how old are you? \")\n",
    "print (\"you are\", Your_age, \"years old\")\n",
    "''' زمانی که کاربر داده ای را وارد می کند برای آن متغیر ذخیره می شود. در مثال کنونی یور اِیج یک متغیر است که کاربر باید آن را وارد کند و زمانی که وارد کند متغیر با آن داده ذخیره می شود و در دستورهای بعدی قابل اجرا خواهد بود '''\n",
    "\n",
    "print(__doc__)"
   ]
  },
  {
   "cell_type": "markdown",
   "id": "71f74711-0244-4f99-a878-6729e065eb1f",
   "metadata": {},
   "source": [
    "<div dir = \"rtl\">\n",
    "\n",
    "# تمرین"
   ]
  },
  {
   "cell_type": "markdown",
   "id": "f5ce9875-4501-4f7c-9118-3cb017ee63fe",
   "metadata": {},
   "source": [
    "<div dir = \"rtl\">\n",
    "\n",
    "برنامه ای بنویسید که اسم و فامیلی را از کاربر بگیرد سپس \n",
    "1. اسم را جداگانه پرینت کند\n",
    "2. فامیلی را جداگانه پرینت کند\n",
    "3. اسم و فامیلی را کاملا کنار هم پرینت کند \n",
    "4. اسم و فامیلی را با فاصله پرینت کند"
   ]
  },
  {
   "cell_type": "markdown",
   "id": "fb023828-c070-43ec-81ff-530a98660b16",
   "metadata": {},
   "source": [
    "<div dir = \"rtl\">\n",
    "\n",
    "خطی دیگر اضافه کنید تا سن را نیز از کاربر بگیرید و سپس گزاره را با استفاده سه متغیری که دارید و نه با استرینگ پرینت بگیرید.\n",
    "\n",
    "print(\"name family name is x years old\")"
   ]
  },
  {
   "cell_type": "markdown",
   "id": "91b25b42",
   "metadata": {},
   "source": [
    "source of the picture: mathematical analysis by dean corbae"
   ]
  }
 ],
 "metadata": {
  "kernelspec": {
   "display_name": "Python 3 (ipykernel)",
   "language": "python",
   "name": "python3"
  },
  "language_info": {
   "codemirror_mode": {
    "name": "ipython",
    "version": 3
   },
   "file_extension": ".py",
   "mimetype": "text/x-python",
   "name": "python",
   "nbconvert_exporter": "python",
   "pygments_lexer": "ipython3",
   "version": "3.9.13"
  }
 },
 "nbformat": 4,
 "nbformat_minor": 5
}
