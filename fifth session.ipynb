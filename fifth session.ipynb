{
 "cells": [
  {
   "cell_type": "markdown",
   "id": "6546f869-c6fd-4720-af91-e460bc8abb7c",
   "metadata": {},
   "source": [
    "   # Dictionaries, Tuples,"
   ]
  },
  {
   "cell_type": "markdown",
   "id": "feba34a8-e34f-4088-8b99-9fedb011b113",
   "metadata": {},
   "source": [
    "# Tuples"
   ]
  },
  {
   "cell_type": "markdown",
   "id": "1c4f8afb-dcf5-4671-8747-645e21de60c0",
   "metadata": {},
   "source": [
    "<div dir = \"rtl\">\n",
    "    \n",
    "    \n",
    "    \n",
    "تاپل‌ها یا چندتایی‌ها مشابه لیست‌ها که در جلسه گذشته آمد گونه‌هایی از ساختار داده هستند که ویژگی‌های زیر را دارند:\n",
    "    \n",
    "    - تغییر ناپذیرند\n",
    "    \n",
    "    - مرتبند\n",
    "    \n",
    "    - بدلیل ایندکس پذیری می‌توانند دارای ایتم‌هایی مشابه با ایندکس متفاوت باشند\n",
    "    \n",
    "    - بخاطر داشتن ایندکس می‌توان اعضای تاپل را فراخواند\n",
    "</div>"
   ]
  },
  {
   "cell_type": "code",
   "execution_count": 1,
   "id": "bde043c7-520a-4917-8737-7ef255d0d45f",
   "metadata": {},
   "outputs": [
    {
     "name": "stdout",
     "output_type": "stream",
     "text": [
      "['apple', 'blueberry', 'cherry']\n"
     ]
    }
   ],
   "source": [
    "my_list = [\"apple\", \"banana\", \"cherry\"]\n",
    "my_list[1] = \"blueberry\"  # تغییر پذیر بودن لیست\n",
    "print(my_list)  "
   ]
  },
  {
   "cell_type": "code",
   "execution_count": 2,
   "id": "dc189154-21d2-49e4-8e25-178a4516232e",
   "metadata": {},
   "outputs": [
    {
     "ename": "TypeError",
     "evalue": "'tuple' object does not support item assignment",
     "output_type": "error",
     "traceback": [
      "\u001b[1;31m---------------------------------------------------------------------------\u001b[0m",
      "\u001b[1;31mTypeError\u001b[0m                                 Traceback (most recent call last)",
      "\u001b[1;32m~\\AppData\\Local\\Temp\\ipykernel_20960\\3994389655.py\u001b[0m in \u001b[0;36m<module>\u001b[1;34m\u001b[0m\n\u001b[0;32m      1\u001b[0m \u001b[0mmy_tuple\u001b[0m \u001b[1;33m=\u001b[0m \u001b[1;33m(\u001b[0m\u001b[1;34m\"apple\"\u001b[0m\u001b[1;33m,\u001b[0m \u001b[1;34m\"banana\"\u001b[0m\u001b[1;33m,\u001b[0m \u001b[1;34m\"cherry\"\u001b[0m\u001b[1;33m)\u001b[0m\u001b[1;33m\u001b[0m\u001b[1;33m\u001b[0m\u001b[0m\n\u001b[1;32m----> 2\u001b[1;33m \u001b[0mmy_tuple\u001b[0m\u001b[1;33m[\u001b[0m\u001b[1;36m1\u001b[0m\u001b[1;33m]\u001b[0m \u001b[1;33m=\u001b[0m \u001b[1;34m\"blueberry\"\u001b[0m  \u001b[1;31m# تغییر ناپذیر بودن تاپل\u001b[0m\u001b[1;33m\u001b[0m\u001b[1;33m\u001b[0m\u001b[0m\n\u001b[0m\u001b[0;32m      3\u001b[0m \u001b[0mprint\u001b[0m\u001b[1;33m(\u001b[0m\u001b[0mmy_tuple\u001b[0m\u001b[1;33m)\u001b[0m\u001b[1;33m\u001b[0m\u001b[1;33m\u001b[0m\u001b[0m\n",
      "\u001b[1;31mTypeError\u001b[0m: 'tuple' object does not support item assignment"
     ]
    }
   ],
   "source": [
    "my_tuple = (\"apple\", \"banana\", \"cherry\")\n",
    "my_tuple[1] = \"blueberry\"  # تغییر ناپذیر بودن تاپل\n",
    "print(my_tuple)"
   ]
  },
  {
   "cell_type": "code",
   "execution_count": 10,
   "id": "1aa7800b-4ceb-4dbc-9f4e-2101421eac6e",
   "metadata": {},
   "outputs": [
    {
     "name": "stdout",
     "output_type": "stream",
     "text": [
      "['apple', 'banana', 'cherry', 'apple', 'cherry', 'cucumber']\n"
     ]
    },
    {
     "ename": "AttributeError",
     "evalue": "'tuple' object has no attribute 'append'",
     "output_type": "error",
     "traceback": [
      "\u001b[1;31m---------------------------------------------------------------------------\u001b[0m",
      "\u001b[1;31mAttributeError\u001b[0m                            Traceback (most recent call last)",
      "\u001b[1;32m~\\AppData\\Local\\Temp\\ipykernel_20960\\338535784.py\u001b[0m in \u001b[0;36m<module>\u001b[1;34m\u001b[0m\n\u001b[0;32m      2\u001b[0m \u001b[0mprint\u001b[0m\u001b[1;33m(\u001b[0m\u001b[0mmy_list\u001b[0m\u001b[1;33m)\u001b[0m\u001b[1;33m\u001b[0m\u001b[1;33m\u001b[0m\u001b[0m\n\u001b[0;32m      3\u001b[0m \u001b[1;33m\u001b[0m\u001b[0m\n\u001b[1;32m----> 4\u001b[1;33m \u001b[0mmy_tuple\u001b[0m\u001b[1;33m.\u001b[0m\u001b[0mappend\u001b[0m\u001b[1;33m(\u001b[0m\u001b[1;34m\"cucumber\"\u001b[0m\u001b[1;33m)\u001b[0m\u001b[1;33m\u001b[0m\u001b[1;33m\u001b[0m\u001b[0m\n\u001b[0m\u001b[0;32m      5\u001b[0m \u001b[0mprint\u001b[0m\u001b[1;33m(\u001b[0m\u001b[0mmy_tuple\u001b[0m\u001b[1;33m)\u001b[0m\u001b[1;33m\u001b[0m\u001b[1;33m\u001b[0m\u001b[0m\n",
      "\u001b[1;31mAttributeError\u001b[0m: 'tuple' object has no attribute 'append'"
     ]
    }
   ],
   "source": [
    "my_list.append(\"cucumber\") #قابل تغییر بود لیست\n",
    "print(my_list)\n",
    "\n",
    "my_tuple.append(\"cucumber\") #تغییر ناپذیر بودن تاپل \n",
    "print(my_tuple)"
   ]
  },
  {
   "cell_type": "code",
   "execution_count": 3,
   "id": "52b69aef-5ada-48f4-a41d-1ddbf075375c",
   "metadata": {},
   "outputs": [
    {
     "name": "stdout",
     "output_type": "stream",
     "text": [
      "['apple', 'banana', 'cherry', 'apple', 'cherry']\n"
     ]
    }
   ],
   "source": [
    "my_list = [\"apple\", \"banana\", \"cherry\", \"apple\", \"cherry\"]\n",
    "print(my_list)  \n"
   ]
  },
  {
   "cell_type": "code",
   "execution_count": 4,
   "id": "634c5223-2ecf-4ae1-b30a-a18eae52aa70",
   "metadata": {},
   "outputs": [
    {
     "name": "stdout",
     "output_type": "stream",
     "text": [
      "('apple', 'banana', 'cherry', 'apple', 'cherry')\n"
     ]
    }
   ],
   "source": [
    "my_tuple = (\"apple\", \"banana\", \"cherry\", \"apple\", \"cherry\")\n",
    "print(my_tuple)  # Output: ('apple', 'banana', 'cherry', 'apple', 'cherry')"
   ]
  },
  {
   "cell_type": "code",
   "execution_count": 8,
   "id": "a9524c1b-e5eb-4b20-9b41-f1864d259d6a",
   "metadata": {},
   "outputs": [
    {
     "name": "stdout",
     "output_type": "stream",
     "text": [
      "cherry cherry cherry cherry\n"
     ]
    }
   ],
   "source": [
    "print(my_tuple[2], my_list[2], my_tuple[4], my_list[4]) #به ایندکس‌ها توجه کنید"
   ]
  },
  {
   "cell_type": "code",
   "execution_count": 124,
   "id": "f66b1d51-0116-48f6-864b-b3d2593b3476",
   "metadata": {},
   "outputs": [
    {
     "name": "stdout",
     "output_type": "stream",
     "text": [
      "The index of 'cherry' is 2.\n"
     ]
    }
   ],
   "source": [
    "my_list = [\"apple\", \"banana\", \"cherry\", \"apple\", \"cherry\"]\n",
    "\n",
    "# بدست آوردن ایندکس\n",
    "index = my_list.index(\"cherry\")\n",
    "print(f\"The index of 'cherry' is {index}.\")"
   ]
  },
  {
   "cell_type": "code",
   "execution_count": 125,
   "id": "1cf41994-922c-4ce9-ae54-31f76f849fdd",
   "metadata": {},
   "outputs": [
    {
     "name": "stdout",
     "output_type": "stream",
     "text": [
      "The indices of 'apple' are [0, 3].\n"
     ]
    }
   ],
   "source": [
    "indices = [i for i, x in enumerate(my_list) if x == \"apple\"]\n",
    "print(f\"The indices of 'apple' are {indices}.\") \n",
    "# بدست آوردن تمام ایندکس های یک ایتم حتی در صورت تکراری بودن"
   ]
  },
  {
   "cell_type": "code",
   "execution_count": 126,
   "id": "a401c9cc-d4af-4176-ace3-61fd1254c617",
   "metadata": {},
   "outputs": [
    {
     "name": "stdout",
     "output_type": "stream",
     "text": [
      "The value at index 0 is apple.\n",
      "The value at index 1 is banana.\n",
      "The value at index 2 is cherry.\n",
      "The value at index 3 is apple.\n",
      "The value at index 4 is cherry.\n"
     ]
    }
   ],
   "source": [
    "my_list = [\"apple\", \"banana\", \"cherry\", \"apple\", \"cherry\"]\n",
    "\n",
    "for index, value in enumerate(my_list):\n",
    "    print(f\"The value at index {index} is {value}.\")"
   ]
  },
  {
   "cell_type": "code",
   "execution_count": 127,
   "id": "02569dc4-268d-44de-bb45-dc43aba04adb",
   "metadata": {},
   "outputs": [
    {
     "name": "stdout",
     "output_type": "stream",
     "text": [
      "The index of 'cherry' is 2.\n"
     ]
    }
   ],
   "source": [
    "my_tuple = (\"apple\", \"banana\", \"cherry\", \"apple\", \"cherry\")\n",
    "index = my_tuple.index(\"cherry\")\n",
    "print(f\"The index of 'cherry' is {index}.\")"
   ]
  },
  {
   "cell_type": "code",
   "execution_count": 128,
   "id": "077a5d6d-ef7d-4f6d-89b2-078496b671d3",
   "metadata": {},
   "outputs": [
    {
     "name": "stdout",
     "output_type": "stream",
     "text": [
      "The indices of 'apple' are [0, 3].\n"
     ]
    }
   ],
   "source": [
    "indices = [i for i, x in enumerate(my_tuple) if x == \"apple\"]\n",
    "print(f\"The indices of 'apple' are {indices}.\") \n",
    "# بدست آوردن تمام ایندکس های یک ایتم حتی در صورت تکراری بودن"
   ]
  },
  {
   "cell_type": "code",
   "execution_count": 130,
   "id": "e92e564c-0e65-4aba-a405-4931a05e5b6e",
   "metadata": {},
   "outputs": [
    {
     "name": "stdout",
     "output_type": "stream",
     "text": [
      "The value at index 0 is apple.\n",
      "The value at index 1 is banana.\n",
      "The value at index 2 is cherry.\n",
      "The value at index 3 is apple.\n",
      "The value at index 4 is cherry.\n"
     ]
    }
   ],
   "source": [
    "my_tuple = (\"apple\", \"banana\", \"cherry\", \"apple\", \"cherry\")\n",
    "\n",
    "for index, value in enumerate(my_tuple):\n",
    "    print(f\"The value at index {index} is {value}.\")"
   ]
  },
  {
   "cell_type": "markdown",
   "id": "e6cf0ceb-4ebd-4b10-9daa-ebd2a0927dd3",
   "metadata": {},
   "source": [
    "<div dir = \"rtl\">\n",
    "\n",
    "## می‌توان در یک لیست، تاپل‌ ایجاد کرد\n",
    "</div>"
   ]
  },
  {
   "cell_type": "code",
   "execution_count": 113,
   "id": "6f1a6b9f-54d9-4127-83eb-120e3713c9aa",
   "metadata": {},
   "outputs": [
    {
     "name": "stdout",
     "output_type": "stream",
     "text": [
      "[('USA', 25.463), ('China', 17.963), ('Japan', 4.231), ('Germany', 4.072), ('India', 3.385)]\n"
     ]
    }
   ],
   "source": [
    "Countries_GDP = [(\"USA\", 25.463), (\"China\", 17.963), (\"Japan\", 4.231), (\"Germany\", 4.072), (\"India\", 3.385)]\n",
    "print(Countries_GDP)"
   ]
  },
  {
   "cell_type": "code",
   "execution_count": 114,
   "id": "e46d5811-ccaa-433c-a183-fcf8e59531b4",
   "metadata": {},
   "outputs": [
    {
     "data": {
      "text/plain": [
       "('India', 3.385)"
      ]
     },
     "execution_count": 114,
     "metadata": {},
     "output_type": "execute_result"
    }
   ],
   "source": [
    "Countries_GDP[4] #accessing data"
   ]
  },
  {
   "cell_type": "code",
   "execution_count": 118,
   "id": "9690d786-cf34-4135-b750-ab0e5cb2290f",
   "metadata": {},
   "outputs": [
    {
     "name": "stdout",
     "output_type": "stream",
     "text": [
      "The GDP of USA is 3.385 trillion USD.\n",
      "The GDP of China is 3.385 trillion USD.\n",
      "The GDP of Japan is 3.385 trillion USD.\n",
      "The GDP of Germany is 3.385 trillion USD.\n",
      "The GDP of India is 3.385 trillion USD.\n"
     ]
    }
   ],
   "source": [
    "for country, GDP in Countries_GDP: #تفکیک دو داده و پرینت گرفتن جداگانه\n",
    "    print(f\"The GDP of {country} is {gdp} trillion USD.\")"
   ]
  },
  {
   "cell_type": "code",
   "execution_count": 121,
   "id": "44c427bc-7998-4443-8b8a-308f3f67bd74",
   "metadata": {},
   "outputs": [
    {
     "name": "stdout",
     "output_type": "stream",
     "text": [
      "The GDP of India is 3.385 trillion USD.\n",
      "The GDP of India is 3.385 trillion USD.\n",
      "The GDP of India is 3.385 trillion USD.\n",
      "The GDP of India is 3.385 trillion USD.\n",
      "The GDP of India is 3.385 trillion USD.\n"
     ]
    }
   ],
   "source": [
    "for i, k in Countries_GDP: #تفکیک دو داده و پرینت گرفتن جداگانه\n",
    "    print(f\"The GDP of {country} is {gdp} trillion USD.\") \n",
    "#چون آخرین مقدار تعریف شده برای متغیرها هند و جی دی پی اش بوده پرینت می‌شود"
   ]
  },
  {
   "cell_type": "code",
   "execution_count": 122,
   "id": "26a69a2b-f471-4c96-b27c-eadd5c7d2a2b",
   "metadata": {},
   "outputs": [
    {
     "name": "stdout",
     "output_type": "stream",
     "text": [
      "The GDP of USA is 25.463 trillion USD.\n",
      "The GDP of China is 17.963 trillion USD.\n",
      "The GDP of Japan is 4.231 trillion USD.\n",
      "The GDP of Germany is 4.072 trillion USD.\n",
      "The GDP of India is 3.385 trillion USD.\n"
     ]
    }
   ],
   "source": [
    "for i, k in Countries_GDP: #تفکیک دو داده و پرینت گرفتن جداگانه\n",
    "    print(f\"The GDP of {i} is {k} trillion USD.\") "
   ]
  },
  {
   "cell_type": "code",
   "execution_count": 87,
   "id": "ee68685b-bc29-453c-8465-f9e04554df77",
   "metadata": {},
   "outputs": [
    {
     "name": "stdout",
     "output_type": "stream",
     "text": [
      "[('India', 3.385), ('Germany', 4.072), ('Japan', 4.231), ('China', 17.963), ('USA', 25.463)]\n"
     ]
    }
   ],
   "source": [
    "Countries_GDP.sort(key=lambda x: x[1], reverse=False)\n",
    "print(Countries_GDP)"
   ]
  },
  {
   "cell_type": "code",
   "execution_count": 23,
   "id": "6f2af766-ef8a-47d4-8963-81ac1cccf179",
   "metadata": {},
   "outputs": [
    {
     "name": "stdin",
     "output_type": "stream",
     "text": [
      " Please enter the name of the country to get its GDP value Japan\n"
     ]
    },
    {
     "name": "stdout",
     "output_type": "stream",
     "text": [
      "4.231\n"
     ]
    }
   ],
   "source": [
    "def get_gdp(country_name):\n",
    "    for country, gdp in Countries_GDP:\n",
    "        if country == country_name:\n",
    "            return gdp\n",
    "    return None\n",
    "\n",
    "country = (input(\" Please enter the name of the country to get its GDP value\"))\n",
    "output = get_gdp(country)\n",
    "print(output)"
   ]
  },
  {
   "cell_type": "markdown",
   "id": "e23c06de-3ad0-4999-88ae-c0c83cb5fd16",
   "metadata": {},
   "source": [
    "<div dir = \"rtl\">\n",
    "  \n",
    "    \n",
    "# در باب تابع‌های بی نام    \n",
    "</div>"
   ]
  },
  {
   "cell_type": "markdown",
   "id": "d97c5180-225f-4752-a822-20f21480fe46",
   "metadata": {},
   "source": [
    "<div dir = \"rtl\">\n",
    "    \n",
    "در پایتون، از \n",
    "key = lamda\n",
    "در تابع هایی مانند \n",
    "sort(), sorted(), min(), max()\n",
    "و غیره استفاده می‌شود تا تابعی از یک متغیر برای ترتیب دادن و مرتب کردن ایجاد شود. \n",
    "کلمه \n",
    "lamda\n",
    " در پایتون برای ساخت توابع بی نام یا بدون استفاده می‌شود. این توابع فقط از یک عبارت تشکیل شده ولی می‌توانند چندین آرگومان داشته باشند\n",
    "</div>"
   ]
  },
  {
   "cell_type": "code",
   "execution_count": 26,
   "id": "572f4b56-eb66-4ad9-afa6-165698b2202d",
   "metadata": {},
   "outputs": [
    {
     "name": "stdout",
     "output_type": "stream",
     "text": [
      "[('India', 3.385), ('Germany', 4.072), ('Japan', 4.231), ('China', 17.963), ('USA', 25.463)]\n"
     ]
    }
   ],
   "source": [
    "Countries_GDP = [(\"USA\", 25.463), (\"China\", 17.963), (\"Japan\", 4.231), (\"Germany\", 4.072), (\"India\", 3.385)]\n",
    "\n",
    "Countries_GDP.sort(key=lambda x: x[1], reverse = False)\n",
    "\n",
    "print(Countries_GDP)\n"
   ]
  },
  {
   "cell_type": "markdown",
   "id": "81aa3a5c-ce48-41e5-af81-175b54167fe9",
   "metadata": {},
   "source": [
    "<div dir = \"rtl\">\n",
    "\n",
    "در کد بالا، \n",
    "key = lamda x: x[1]\n",
    "تابعی است که آرگومان\n",
    "x\n",
    "را که در اینجا یک تاپل است می‌گیرد و \n",
    "x[1]\n",
    "را باز می‌گرداند. که\n",
    "x[1]\n",
    "عنصر دوم تاپل که مقدار \n",
    "GDP \n",
    "است می‌باشد. \n",
    "تابع \n",
    "sort()\n",
    "از این تابع\n",
    "key\n",
    "استفاده می‌کند تا چگونگی مرتب سازی تاپل مشخص شود. \n",
    "آرگومان\n",
    "reverse = False\n",
    "در اینجا یعنی از کمترین به بیشترین. و در کل اینکه \n",
    "x[1]\n",
    "یعنی با توجه به عنصر دوم تاپل مرتب سازی انجام می‌شود. \n",
    "</div>"
   ]
  },
  {
   "cell_type": "code",
   "execution_count": 28,
   "id": "67c7f92f-46fd-4a55-b4b1-dd6ad88510ea",
   "metadata": {},
   "outputs": [
    {
     "name": "stdout",
     "output_type": "stream",
     "text": [
      "6\n"
     ]
    }
   ],
   "source": [
    "add = lambda x, y, z: x + y + z\n",
    "\n",
    "result = add(1, 2, 3)  \n",
    "print(result)\n"
   ]
  },
  {
   "cell_type": "markdown",
   "id": "d4dfe0ac-1341-47ad-a280-d16b299b3cba",
   "metadata": {},
   "source": [
    "<div dir = \"rtl\">\n",
    "    \n",
    "در کد بالا تابع لامبدا فقط یک عبارت را اجرا می‌کند که آن جمع آرگومان‌های تعریف شده برای تابع است.\n",
    "</div>"
   ]
  },
  {
   "cell_type": "code",
   "execution_count": 32,
   "id": "dd122cbe-523c-43b4-9eea-d7321ecc29fe",
   "metadata": {},
   "outputs": [
    {
     "data": {
      "text/plain": [
       "('China', 17.963)"
      ]
     },
     "execution_count": 32,
     "metadata": {},
     "output_type": "execute_result"
    }
   ],
   "source": [
    "Countries_GDP [3] #عنصر سوم لیست"
   ]
  },
  {
   "cell_type": "code",
   "execution_count": 31,
   "id": "cd770521-e254-4a6a-8ec1-763f7a0f1be2",
   "metadata": {},
   "outputs": [
    {
     "data": {
      "text/plain": [
       "17.963"
      ]
     },
     "execution_count": 31,
     "metadata": {},
     "output_type": "execute_result"
    }
   ],
   "source": [
    "Countries_GDP [3] [1] #عنصر دوم تاپل که خود عنصر سوم لیست است"
   ]
  },
  {
   "cell_type": "code",
   "execution_count": 34,
   "id": "309915bf-f003-4faa-b07c-92ffce5f00d5",
   "metadata": {},
   "outputs": [],
   "source": [
    "country_GDP = ('china', 17.963) #استفاده از تابع برای ساخت دو متغیر "
   ]
  },
  {
   "cell_type": "code",
   "execution_count": 36,
   "id": "1f10e2a1-b122-428d-a442-5bab81725338",
   "metadata": {},
   "outputs": [
    {
     "name": "stdout",
     "output_type": "stream",
     "text": [
      "('china', 17.963)\n"
     ]
    }
   ],
   "source": [
    "(country, GDP) = country_GDP\n",
    "print(country_GDP)"
   ]
  },
  {
   "cell_type": "code",
   "execution_count": 37,
   "id": "06bb9081-2d17-4ef2-94be-26a73e70b76c",
   "metadata": {},
   "outputs": [
    {
     "name": "stdout",
     "output_type": "stream",
     "text": [
      "china\n"
     ]
    }
   ],
   "source": [
    "print(country)"
   ]
  },
  {
   "cell_type": "code",
   "execution_count": 38,
   "id": "0f8ed0f4-a312-4347-bea9-8bc989995951",
   "metadata": {},
   "outputs": [
    {
     "name": "stdout",
     "output_type": "stream",
     "text": [
      "17.963\n"
     ]
    }
   ],
   "source": [
    "print(GDP)"
   ]
  },
  {
   "cell_type": "code",
   "execution_count": 41,
   "id": "bd578cc6-0ad6-48e9-ad02-d0fa0c86a9bf",
   "metadata": {},
   "outputs": [
    {
     "name": "stdout",
     "output_type": "stream",
     "text": [
      "9\n",
      "1\n"
     ]
    }
   ],
   "source": [
    "nums = (1,2,3,4,5,6,7,8,9)\n",
    "print(max(nums))\n",
    "print(min(nums))"
   ]
  },
  {
   "cell_type": "markdown",
   "id": "7d85eb6c-58c3-4d13-9772-07a4dd6361e6",
   "metadata": {},
   "source": [
    "# Dictionaries"
   ]
  },
  {
   "cell_type": "code",
   "execution_count": 88,
   "id": "9d1770d4-1a7f-45dc-bc7d-d91730bc0fe2",
   "metadata": {},
   "outputs": [
    {
     "name": "stdout",
     "output_type": "stream",
     "text": [
      "{'emmaa': 1234, 'Daniel': 3456, 'Hannah': 6789}\n"
     ]
    }
   ],
   "source": [
    "phonebook = {\"emmaa\" : 1234, \"Daniel\" : 3456, \"Hannah\" : 6789} #key:value\n",
    "print(phonebook)"
   ]
  },
  {
   "cell_type": "code",
   "execution_count": 89,
   "id": "7d8c9bc7-1151-49e9-823f-d2796a1955f3",
   "metadata": {},
   "outputs": [
    {
     "name": "stdout",
     "output_type": "stream",
     "text": [
      "{'emma': '1234', 'Daniel': '3456', 'Hannah': '6789'}\n"
     ]
    }
   ],
   "source": [
    "numbook = {\"emma\" : \"1234\", \"Daniel\" : \"3456\", \"Hannah\" : \"6789\"} #key:value\n",
    "print(numbook)"
   ]
  },
  {
   "cell_type": "code",
   "execution_count": 92,
   "id": "1c4381fa-d2e6-4817-9c8d-a168c178df17",
   "metadata": {},
   "outputs": [
    {
     "data": {
      "text/plain": [
       "1234"
      ]
     },
     "execution_count": 92,
     "metadata": {},
     "output_type": "execute_result"
    }
   ],
   "source": [
    "phonebook[\"emmaa\"] #calling the key"
   ]
  },
  {
   "cell_type": "code",
   "execution_count": 49,
   "id": "15bc06f9-172a-409b-bd1a-1840f1f8910a",
   "metadata": {},
   "outputs": [
    {
     "name": "stdout",
     "output_type": "stream",
     "text": [
      "{'emma': '1234', 'Daniel': '3456', 'Hannah': '6789', 'laura': 12545}\n"
     ]
    }
   ],
   "source": [
    "numbook[\"laura\"] = 12545 #adding to dictionary\n",
    "print(numbook)"
   ]
  },
  {
   "cell_type": "code",
   "execution_count": 55,
   "id": "757dca5d-e190-4ca5-bc13-c8c577b6e45d",
   "metadata": {},
   "outputs": [
    {
     "name": "stdout",
     "output_type": "stream",
     "text": [
      "{'Daniel': 3456, 'Hannah': 6789}\n"
     ]
    }
   ],
   "source": [
    "del phonebook[\"emma\"] #deleting from a dictionary\n",
    "print(phonebook)"
   ]
  },
  {
   "cell_type": "code",
   "execution_count": 60,
   "id": "af9ccda5-49ff-4edf-8f39-b2a8d96c121a",
   "metadata": {},
   "outputs": [
    {
     "name": "stdin",
     "output_type": "stream",
     "text": [
      "enter the name of the country:  Germany\n",
      "enter the country's GDP rank among other european countries:  1\n"
     ]
    }
   ],
   "source": [
    "european_countries_GDP_rank = {}\n",
    "country = input(\"enter the name of the country: \")\n",
    "GDP_rank = int(input(\"enter the country's GDP rank among other european countries: \"))\n",
    "             \n",
    "european_countries_GDP_rank [country] = GDP_rank"
   ]
  },
  {
   "cell_type": "code",
   "execution_count": 61,
   "id": "4b33c6e5-2fef-46fc-b18e-78cb9d80d21a",
   "metadata": {},
   "outputs": [
    {
     "name": "stdout",
     "output_type": "stream",
     "text": [
      "{'Germany': 1}\n"
     ]
    }
   ],
   "source": [
    "print(european_countries_GDP_rank)"
   ]
  },
  {
   "cell_type": "code",
   "execution_count": 93,
   "id": "f7153be7-ce69-4f7c-be2d-80fbf8d8d793",
   "metadata": {},
   "outputs": [
    {
     "name": "stdout",
     "output_type": "stream",
     "text": [
      "['Spring', 'Summer', 'Fall', 'Winter']\n"
     ]
    },
    {
     "data": {
      "text/plain": [
       "list"
      ]
     },
     "execution_count": 93,
     "metadata": {},
     "output_type": "execute_result"
    }
   ],
   "source": [
    "Seasons = \"Spring Summer Fall Winter\"\n",
    "Seasons = Seasons.split(\" \") \n",
    "print(Seasons)\n",
    "type(Seasons)"
   ]
  },
  {
   "cell_type": "code",
   "execution_count": 106,
   "id": "424cad18-811d-47bb-9e5e-efa0e66c41e2",
   "metadata": {},
   "outputs": [
    {
     "name": "stdout",
     "output_type": "stream",
     "text": [
      "['Spring', 'SummerFallWinter']\n"
     ]
    }
   ],
   "source": [
    "Seasons = \"Spring SummerFallWinter\"\n",
    "Seasons = Seasons.split(\" \") \n",
    "print(Seasons)"
   ]
  },
  {
   "cell_type": "code",
   "execution_count": 67,
   "id": "9b3ccbb9-7324-469f-adf5-9a9b896a6210",
   "metadata": {},
   "outputs": [
    {
     "name": "stdout",
     "output_type": "stream",
     "text": [
      "['d', 'i', 'v', 'i', 'd', 'e', 't', 'h', 'e', 's', 'e', 'l', 'e', 't', 't', 'e', 'r', 's']\n"
     ]
    }
   ],
   "source": [
    "dividing = list(\"dividetheseletters\")\n",
    "print(dividing)"
   ]
  },
  {
   "cell_type": "code",
   "execution_count": 68,
   "id": "7a261797-6fe6-4ea3-96d7-9c93c3b2dd9b",
   "metadata": {},
   "outputs": [
    {
     "name": "stdout",
     "output_type": "stream",
     "text": [
      "['4', '5', '2', '1', '1', '8', '5', '6', '9', '8', '4', '2']\n"
     ]
    }
   ],
   "source": [
    "dividing1 = list(\"452118569842\")\n",
    "print(dividing1)"
   ]
  },
  {
   "cell_type": "code",
   "execution_count": 108,
   "id": "5195d6f4-2975-48d2-b7f4-5bd7307820de",
   "metadata": {},
   "outputs": [
    {
     "name": "stdout",
     "output_type": "stream",
     "text": [
      "d i v i d e t h e s e l e t t e r s\n"
     ]
    }
   ],
   "source": [
    "bringtog = \" \".join(dividing)\n",
    "print(bringtog)"
   ]
  },
  {
   "cell_type": "code",
   "execution_count": 110,
   "id": "15126726-9725-4336-9383-9b9aa80e7907",
   "metadata": {},
   "outputs": [
    {
     "name": "stdout",
     "output_type": "stream",
     "text": [
      "RedGreenBlue\n"
     ]
    },
    {
     "data": {
      "text/plain": [
       "str"
      ]
     },
     "execution_count": 110,
     "metadata": {},
     "output_type": "execute_result"
    }
   ],
   "source": [
    "colors = [\"Red\", \"Green\", \"Blue\"]\n",
    "col = \"\".join(colors)\n",
    "print(col)\n",
    "type(col)"
   ]
  },
  {
   "cell_type": "code",
   "execution_count": 111,
   "id": "4c6996ad-9ddb-4f75-8bbf-f0ff1ce19b33",
   "metadata": {},
   "outputs": [
    {
     "data": {
      "text/plain": [
       "\"['Red', 'Green', 'Blue']\""
      ]
     },
     "execution_count": 111,
     "metadata": {},
     "output_type": "execute_result"
    }
   ],
   "source": [
    "str(colors)"
   ]
  },
  {
   "cell_type": "code",
   "execution_count": null,
   "id": "578d74ef-da19-4b95-b8f0-77d4cc313249",
   "metadata": {},
   "outputs": [],
   "source": []
  }
 ],
 "metadata": {
  "kernelspec": {
   "display_name": "Python 3 (ipykernel)",
   "language": "python",
   "name": "python3"
  },
  "language_info": {
   "codemirror_mode": {
    "name": "ipython",
    "version": 3
   },
   "file_extension": ".py",
   "mimetype": "text/x-python",
   "name": "python",
   "nbconvert_exporter": "python",
   "pygments_lexer": "ipython3",
   "version": "3.9.13"
  }
 },
 "nbformat": 4,
 "nbformat_minor": 5
}
