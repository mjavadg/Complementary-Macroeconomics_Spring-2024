{
 "cells": [
  {
   "cell_type": "markdown",
   "id": "f8a6b13a-04a7-4bd4-a5de-5d4b6826abe9",
   "metadata": {},
   "source": [
    "# متغیرها و کار با آنها"
   ]
  },
  {
   "cell_type": "markdown",
   "id": "d300e8b0-b48b-4266-8616-c909c5f47edf",
   "metadata": {},
   "source": [
    "تا الان با متغیرهای اعشاری، عدد صحیح و استرینگ آشنا شدیم. متغیرهای اعشاری و عدد صحیح شامل متغیرهای عددی می شوند. یکی دیگر از متغیرهای عددی اعداد مختلط هستند."
   ]
  },
  {
   "cell_type": "code",
   "execution_count": 16,
   "id": "fd271743-4ec9-4cf5-8892-0a8041a14e85",
   "metadata": {},
   "outputs": [
    {
     "name": "stdout",
     "output_type": "stream",
     "text": [
      "<class 'complex'>\n",
      "3.0\n",
      "4.0\n"
     ]
    }
   ],
   "source": [
    "z = 3 + 4j\n",
    "print (type(z))\n",
    "real_part = z.real\n",
    "imag_part = z.imag\n",
    "print(real_part)\n",
    "print(imag_part)"
   ]
  },
  {
   "cell_type": "markdown",
   "id": "99e97aec-bf26-4f81-ad11-8348761546fc",
   "metadata": {},
   "source": [
    "در کد بالا زد (زی) عدد مختلط است که در آن 3 عدد حقیقی و 4جی عدد موهومی است. در پایتون از جی برای نوشتن قسمت موهومی استفاده می کنیم نه از آی. روش دیگری نیز برای وارد کردن عدد مختلط به عنوان داده وجود دارد. "
   ]
  },
  {
   "cell_type": "code",
   "execution_count": 22,
   "id": "43951bda-c207-43bf-a641-c8b23fe8bfb1",
   "metadata": {},
   "outputs": [
    {
     "name": "stdout",
     "output_type": "stream",
     "text": [
      "<class 'complex'>\n",
      "بخش حقیقی =  5.0 بخش موهومی =  6.0\n"
     ]
    }
   ],
   "source": [
    "z1 = complex(5, 6)\n",
    "print(type(z1))\n",
    "real = z1.real\n",
    "imag = z1.imag\n",
    "print(\"بخش حقیقی = \", real, \"بخش موهومی = \", imag)"
   ]
  },
  {
   "cell_type": "markdown",
   "id": "23f27c65-0b3f-43ca-b15f-bee908afeccf",
   "metadata": {},
   "source": [
    "پس اعداد مختلط نیز از انواع متغیرها هستند. در جلسه گذشته با بولین ها هم آشنا شدیم منتهی بولین ها فقط به رابطه == ختم نمی شوند بلکه روابط مختلف دیگری وجود دارد. "
   ]
  },
  {
   "cell_type": "code",
   "execution_count": 30,
   "id": "b83d0d3b-78c9-4e25-9faf-82da6a1b08db",
   "metadata": {},
   "outputs": [
    {
     "name": "stdout",
     "output_type": "stream",
     "text": [
      "1 False\n",
      "2 True\n",
      "3 False\n",
      "4 False\n",
      "5 True\n",
      "6 False\n"
     ]
    }
   ],
   "source": [
    "a = 5 #گزاره اولیه\n",
    "print (1, a != 5) #برابر نیست\n",
    "print(2, a < 6) #کوچکتر بودن\n",
    "print(3, a <= 3) #کوچتکر مساوی\n",
    "print(4, a > 6) #بزرگتر بودن\n",
    "print(5, a >= 5) #بزرگتر مساوی\n",
    "print(6, a == 10) #مساوی بودن"
   ]
  },
  {
   "cell_type": "markdown",
   "id": "0f4c22ad-4df9-4c06-b2f3-7d4037617b4a",
   "metadata": {},
   "source": [
    "متغیری دیگر وجود دارد که در چارچوب بولین‌ها در حالت == خودکار نادرست شناخته می‌شود و در حالت =! خودکار درست و به آن متغیر از نوع هیچ می‌گوییم"
   ]
  },
  {
   "cell_type": "code",
   "execution_count": 37,
   "id": "af1f0656-0aa5-44e0-90b3-10ed866e72a6",
   "metadata": {},
   "outputs": [
    {
     "name": "stdout",
     "output_type": "stream",
     "text": [
      "None\n",
      "<class 'NoneType'>\n",
      "A False\n",
      "B True\n"
     ]
    }
   ],
   "source": [
    "b = None \n",
    "print(b)\n",
    "print(type(b))\n",
    "print(\"A\", b == 5)\n",
    "print(\"B\", b != 9)"
   ]
  },
  {
   "cell_type": "markdown",
   "id": "f2ee4251-3ec4-46d5-a3e5-fa995200e887",
   "metadata": {},
   "source": [
    "همانطور که ملاحظه می کنید متغیر بی برابر با 5 نیست حکمی اشتباه است و اینکه بگوییم برابر با 9 نیست حکمی درست است. نکته ای که وجود دارد این است که بزرگتر و کوچکتر بودن و بزرگتر مساوی و کوچکتر مساوی برای مقایسه با سایر اعداد ممکن نیست. اما چرا؟ "
   ]
  },
  {
   "cell_type": "code",
   "execution_count": 40,
   "id": "b4847fe1-283c-47e9-acc6-6f8b509d25ce",
   "metadata": {},
   "outputs": [
    {
     "ename": "TypeError",
     "evalue": "'<' not supported between instances of 'NoneType' and 'int'",
     "output_type": "error",
     "traceback": [
      "\u001b[1;31m---------------------------------------------------------------------------\u001b[0m",
      "\u001b[1;31mTypeError\u001b[0m                                 Traceback (most recent call last)",
      "\u001b[1;32m~\\AppData\\Local\\Temp\\ipykernel_1216\\3040382138.py\u001b[0m in \u001b[0;36m<module>\u001b[1;34m\u001b[0m\n\u001b[1;32m----> 1\u001b[1;33m \u001b[0mprint\u001b[0m\u001b[1;33m(\u001b[0m\u001b[1;34m\"C\"\u001b[0m\u001b[1;33m,\u001b[0m \u001b[0mb\u001b[0m \u001b[1;33m<\u001b[0m \u001b[1;36m8\u001b[0m\u001b[1;33m)\u001b[0m\u001b[1;33m\u001b[0m\u001b[1;33m\u001b[0m\u001b[0m\n\u001b[0m\u001b[0;32m      2\u001b[0m \u001b[0mprint\u001b[0m\u001b[1;33m(\u001b[0m\u001b[1;34m\"D\"\u001b[0m\u001b[1;33m,\u001b[0m \u001b[0mb\u001b[0m \u001b[1;33m>\u001b[0m \u001b[1;36m4\u001b[0m\u001b[1;33m)\u001b[0m\u001b[1;33m\u001b[0m\u001b[1;33m\u001b[0m\u001b[0m\n\u001b[0;32m      3\u001b[0m \u001b[0mprint\u001b[0m\u001b[1;33m(\u001b[0m\u001b[1;34m\"E\"\u001b[0m\u001b[1;33m,\u001b[0m \u001b[0mb\u001b[0m \u001b[1;33m<=\u001b[0m \u001b[1;36m7\u001b[0m\u001b[1;33m)\u001b[0m\u001b[1;33m\u001b[0m\u001b[1;33m\u001b[0m\u001b[0m\n\u001b[0;32m      4\u001b[0m \u001b[0mprint\u001b[0m\u001b[1;33m(\u001b[0m\u001b[1;34m\"F\"\u001b[0m\u001b[1;33m,\u001b[0m \u001b[0mb\u001b[0m \u001b[1;33m>=\u001b[0m \u001b[1;36m2\u001b[0m\u001b[1;33m)\u001b[0m\u001b[1;33m\u001b[0m\u001b[1;33m\u001b[0m\u001b[0m\n",
      "\u001b[1;31mTypeError\u001b[0m: '<' not supported between instances of 'NoneType' and 'int'"
     ]
    }
   ],
   "source": [
    "print(\"C\", b < 8)\n",
    "print(\"D\", b > 4)\n",
    "print(\"E\", b <= 7)\n",
    "print(\"F\", b >= 2)"
   ]
  },
  {
   "cell_type": "markdown",
   "id": "0f3e5705-620d-4081-8c6d-635e02e4caf6",
   "metadata": {},
   "source": [
    "هیچ بودن مقدار یک متغیر یعنی آن متغیر وجود ندارد و برای نمونه اگر هویت عدد 3.4 اعشاری باشد، هویت هیچ، هیج است و قابل مقایسه با سایر متغیرها نیست. و در واقع زمانی که متغیری هیچ است، ثابتی خاص است که نماینده نبودن مقداری است. پس علت اینکه پایتون نمی تواند سایر عملیات ها را به جز برابری و نابرابری در مقابل هیچ اجرا کند نبود تشابه در نوع متغیرها است. همچنین دقت داشته باشید که بولین‌ها برای درک مقادیر متغیرها بکار می‌روند نه هویت آنها و وقتی از == بین یک متغیر هیچ و عدد صحیح استفاده می‌کنیم، پایتون نگاه مقادیر آنان می‌کند نه هویت آنها و به همین دلیل == و =! را اجرا می‌کند.\n",
    "اما سوالی که پیش می‌آید این است: آیا در کدهای زیر درستی یا نادرستی واقعا معنی دار است؟ "
   ]
  },
  {
   "cell_type": "code",
   "execution_count": 146,
   "id": "71a429ff-1f93-4fbf-9837-21a424422a50",
   "metadata": {},
   "outputs": [
    {
     "name": "stdout",
     "output_type": "stream",
     "text": [
      "None\n",
      "<class 'NoneType'>\n",
      "1 False\n",
      "2 True\n"
     ]
    }
   ],
   "source": [
    "b = None \n",
    "print(b)\n",
    "print(type(b))\n",
    "print(\"1\", b == 5)\n",
    "print(\"2\", b != 9)"
   ]
  },
  {
   "cell_type": "markdown",
   "id": "b555332f-9e96-4568-a53a-233d504e042d",
   "metadata": {},
   "source": [
    "در واقع در کد 1  از پایتون می خواهیم که مقدار متغیر بی را بررسی کند و ببیند که برابر با 5 (که عدد صحیح است) هست یا نه. اما هویت متغیر بی هیچ است و نادرست بودن کد 1 با اینکه به ظاهر بی‌ایراد است کاملا دقیق نیست. در کد 2 این مسئله شفاف‌تر می‌شود. کد 2 می‌گوید که بی برابر با 9 نیست که صادق است ولی وقتی برابر 9 نیست خود بی چیست؟ آیا نمی‌تواند 8 باشد؟ یا متغیر استرینگ باشد؟ 8 نیز با 9 برابر نیست و متغیر استرینگ نیز با 9 برابر نیست پس در این حالت انگار بی علاوه بر اینکه از نوع متغیر هیچ است، از نوع سایر متغیرها هم هست که اینکار دقیق نیست. راه حل چیست؟"
   ]
  },
  {
   "cell_type": "code",
   "execution_count": 43,
   "id": "24145e2b-5ede-47ee-8c7d-edcce7c25c91",
   "metadata": {},
   "outputs": [
    {
     "name": "stdout",
     "output_type": "stream",
     "text": [
      "1 False\n",
      "2 True\n",
      "3 True\n",
      "4 False\n"
     ]
    }
   ],
   "source": [
    "team = None\n",
    "team1 = 5\n",
    "team2 = None\n",
    "\n",
    "print(1, team is team1)\n",
    "print(2, team is not team1)\n",
    "print(3, team is team2)\n",
    "print(4, team is not team2)"
   ]
  },
  {
   "cell_type": "markdown",
   "id": "d796a7bf-a201-49ec-afc9-2fa5287baa38",
   "metadata": {},
   "source": [
    "روش بالا مخصوص متغیرهای هیچ است و اینگونه دیگر به عنوان متغیر بولین شناخته نمی‌شوند و مقدار آنها در نظر گرفته نمی‌شود و هویتشان نیز در کدها حفظ می‌شود. این روش سه برتری کلی نسبت به روش قبل دارد:\n",
    "\n",
    " شفافیت: با استفاده از ایز و ایز نات دقیقا واضح است که داریم هویت متغیر را بررسی می‌کنیم نه مقدارش را.\n",
    " \n",
    " اطمینان داشتن: وقتی از == یا =! استفاده کنیم پایتون مقادیر را بررسی می‌کند و هویت متغیر را نادیده می گیرد و با اینکه جوابی درست می‌دهد ولی جوابش دقیق نیست.\n",
    " \n",
    " عملکرد: از نظر برنامه نویسی دستورهای بولین کندتر از دستورهای هویتی ایز و ایز نات اجرا می‌شوند"
   ]
  },
  {
   "cell_type": "markdown",
   "id": "22a36bed-de59-4447-a860-9c9acca79e8a",
   "metadata": {},
   "source": [
    "# (TypeCasting) تایپ کستینگ "
   ]
  },
  {
   "cell_type": "code",
   "execution_count": 51,
   "id": "20fd71d1-bb72-4270-8a75-362b24a5fbf2",
   "metadata": {},
   "outputs": [
    {
     "name": "stdout",
     "output_type": "stream",
     "text": [
      "1 SaraAnderson\n"
     ]
    },
    {
     "ename": "TypeError",
     "evalue": "can only concatenate str (not \"int\") to str",
     "output_type": "error",
     "traceback": [
      "\u001b[1;31m---------------------------------------------------------------------------\u001b[0m",
      "\u001b[1;31mTypeError\u001b[0m                                 Traceback (most recent call last)",
      "\u001b[1;32m~\\AppData\\Local\\Temp\\ipykernel_1216\\223171613.py\u001b[0m in \u001b[0;36m<module>\u001b[1;34m\u001b[0m\n\u001b[0;32m      4\u001b[0m \u001b[1;33m\u001b[0m\u001b[0m\n\u001b[0;32m      5\u001b[0m \u001b[0mprint\u001b[0m\u001b[1;33m(\u001b[0m\u001b[1;36m1\u001b[0m\u001b[1;33m,\u001b[0m \u001b[0mname\u001b[0m \u001b[1;33m+\u001b[0m \u001b[0mfamily_name\u001b[0m\u001b[1;33m)\u001b[0m\u001b[1;33m\u001b[0m\u001b[1;33m\u001b[0m\u001b[0m\n\u001b[1;32m----> 6\u001b[1;33m \u001b[0mprint\u001b[0m\u001b[1;33m(\u001b[0m\u001b[1;36m2\u001b[0m\u001b[1;33m,\u001b[0m \u001b[0mname\u001b[0m \u001b[1;33m+\u001b[0m \u001b[0mfamily_name\u001b[0m \u001b[1;33m+\u001b[0m \u001b[0mage\u001b[0m\u001b[1;33m)\u001b[0m\u001b[1;33m\u001b[0m\u001b[1;33m\u001b[0m\u001b[0m\n\u001b[0m",
      "\u001b[1;31mTypeError\u001b[0m: can only concatenate str (not \"int\") to str"
     ]
    }
   ],
   "source": [
    "name = \"Sara\"\n",
    "family_name = \"Anderson\"\n",
    "age = 5\n",
    "\n",
    "print(1, name + family_name)\n",
    "print(2, name + family_name + age)"
   ]
  },
  {
   "cell_type": "code",
   "execution_count": 145,
   "id": "2cab6566-5753-4db5-8c15-274352252f7e",
   "metadata": {},
   "outputs": [
    {
     "ename": "TypeError",
     "evalue": "can only concatenate str (not \"int\") to str",
     "output_type": "error",
     "traceback": [
      "\u001b[1;31m---------------------------------------------------------------------------\u001b[0m",
      "\u001b[1;31mTypeError\u001b[0m                                 Traceback (most recent call last)",
      "\u001b[1;32m~\\AppData\\Local\\Temp\\ipykernel_1216\\2260469451.py\u001b[0m in \u001b[0;36m<module>\u001b[1;34m\u001b[0m\n\u001b[1;32m----> 1\u001b[1;33m \u001b[0mprint\u001b[0m\u001b[1;33m(\u001b[0m\u001b[1;36m3\u001b[0m\u001b[1;33m,\u001b[0m\u001b[0mname\u001b[0m\u001b[1;33m+\u001b[0m \u001b[1;34m\" \"\u001b[0m \u001b[1;33m+\u001b[0m \u001b[0mfamily_name\u001b[0m \u001b[1;33m+\u001b[0m \u001b[1;34m\"is\"\u001b[0m \u001b[1;33m+\u001b[0m \u001b[0mage\u001b[0m \u001b[1;33m+\u001b[0m\u001b[1;34m\"years old\"\u001b[0m\u001b[1;33m)\u001b[0m\u001b[1;33m\u001b[0m\u001b[1;33m\u001b[0m\u001b[0m\n\u001b[0m",
      "\u001b[1;31mTypeError\u001b[0m: can only concatenate str (not \"int\") to str"
     ]
    }
   ],
   "source": [
    "print(3,name+ \" \" + family_name + \"is\" + age +\"years old\")"
   ]
  },
  {
   "cell_type": "markdown",
   "id": "a5e1af6e-0a63-4b0d-9ea3-f25c5da7f063",
   "metadata": {},
   "source": [
    "همانطور که در جلسه پیش آمد، دو نوع متغیر متفاوت را نمی‌توان با هم برای مثال جمع کرد. برای اینکار باید نوع متغیرها را یکسان کنیم و سپس پرینت بگیریم. به این یکسان سازی تایپ کستینگ گفته می‌شود. در کدهای 2 و 3 متغیر اِیج عدد صحیح است اما سایر متغیرها استرینگ هستند."
   ]
  },
  {
   "cell_type": "code",
   "execution_count": 54,
   "id": "34b5943c-9750-48d0-b1ee-79ec8cf3836a",
   "metadata": {},
   "outputs": [
    {
     "name": "stdout",
     "output_type": "stream",
     "text": [
      "4 SaraAnderson5\n",
      "5 Sara Anderson is 5 years old\n"
     ]
    }
   ],
   "source": [
    "print(4, name + family_name + str(age))\n",
    "print(5,name+ \" \" + family_name + \" is \" + str(age) +\" years old\")"
   ]
  },
  {
   "cell_type": "markdown",
   "id": "483d21ef-3d78-44af-a744-9da1f2aa6287",
   "metadata": {},
   "source": [
    "در کد 4 و 5 متغیر اِیج را به استرینگ تبدیل کردیم و سپس پرینت گرفتیم و همانطور که مشاهده می‌شود خطا برطرف شد. \n",
    "راه دیگر استفاده از ، بود"
   ]
  },
  {
   "cell_type": "code",
   "execution_count": 55,
   "id": "89b4810e-a22c-4996-a298-e44a4f7192f2",
   "metadata": {},
   "outputs": [
    {
     "name": "stdout",
     "output_type": "stream",
     "text": [
      "Sara Anderson is 5 years old\n"
     ]
    }
   ],
   "source": [
    "print(name, family_name, \"is\", age, \"years old\")"
   ]
  },
  {
   "cell_type": "markdown",
   "id": "358b7ac1-db3e-4dd5-8cc7-2a437483e6f2",
   "metadata": {},
   "source": [
    "اما مشکل اصلی در زمانی است که از کاربر داده می‌گیریم"
   ]
  },
  {
   "cell_type": "code",
   "execution_count": 85,
   "id": "1e4dc0fa-6dc9-4273-8ddd-101491e9e366",
   "metadata": {},
   "outputs": [
    {
     "name": "stdout",
     "output_type": "stream",
     "text": [
      " 103\n",
      " Python for Macroeconomics\n",
      " 3.14\n",
      "Enter a complex number (e.g., 3+4j):  4+8j\n"
     ]
    }
   ],
   "source": [
    "Class_Number = input()\n",
    "Class_Name = input()\n",
    "Pi = input()\n",
    "complex_number = input(\"Enter a complex number (e.g., 3+4j): \")"
   ]
  },
  {
   "cell_type": "code",
   "execution_count": 87,
   "id": "e96ab620-d6ba-4672-a208-a9655b19921a",
   "metadata": {},
   "outputs": [
    {
     "name": "stdout",
     "output_type": "stream",
     "text": [
      "الف <class 'str'>\n",
      "ب <class 'str'>\n",
      "پ <class 'str'>\n",
      "ت <class 'str'>\n"
     ]
    }
   ],
   "source": [
    "print(\"الف\", type(Class_Number))\n",
    "print(\"ب\", type(Class_Name))\n",
    "print(\"پ\", type(Pi))\n",
    "print(\"ت\", type(complex_number))"
   ]
  },
  {
   "cell_type": "markdown",
   "id": "c46f83f3-9d75-44c2-8ebc-87492468e50b",
   "metadata": {},
   "source": [
    "همانطور که مشاهده می‌شود هر نوع داده‌ای، به عنوان استرینگ شناخته می‌شود. و اصولا می‌توان همه آنها را کنار هم به وسیله + پرینت گرفت ولی نمی‌توان عددی را با عددی از کاربر گرفتیم جمع کنیم، چون هر داده ای که از کاربر بگیریم استرینگ (\"\") خواهد بود."
   ]
  },
  {
   "cell_type": "code",
   "execution_count": 86,
   "id": "b51c62c2-1701-4608-ae3c-461b3cd62c60",
   "metadata": {},
   "outputs": [
    {
     "name": "stdout",
     "output_type": "stream",
     "text": [
      "103Python for Macroeconomics3.144+8j\n"
     ]
    }
   ],
   "source": [
    "print(Class_Number+Class_Name+Pi+complex_number)"
   ]
  },
  {
   "cell_type": "code",
   "execution_count": 84,
   "id": "e8583b0f-33f2-4336-863b-6bb5b63f4079",
   "metadata": {},
   "outputs": [
    {
     "ename": "TypeError",
     "evalue": "can only concatenate str (not \"int\") to str",
     "output_type": "error",
     "traceback": [
      "\u001b[1;31m---------------------------------------------------------------------------\u001b[0m",
      "\u001b[1;31mTypeError\u001b[0m                                 Traceback (most recent call last)",
      "\u001b[1;32m~\\AppData\\Local\\Temp\\ipykernel_1216\\2392902062.py\u001b[0m in \u001b[0;36m<module>\u001b[1;34m\u001b[0m\n\u001b[1;32m----> 1\u001b[1;33m \u001b[0msumm\u001b[0m \u001b[1;33m=\u001b[0m \u001b[0mClass_Number\u001b[0m\u001b[1;33m+\u001b[0m\u001b[1;36m5\u001b[0m\u001b[1;33m\u001b[0m\u001b[1;33m\u001b[0m\u001b[0m\n\u001b[0m\u001b[0;32m      2\u001b[0m \u001b[0mprint\u001b[0m\u001b[1;33m(\u001b[0m\u001b[0msumm\u001b[0m\u001b[1;33m)\u001b[0m\u001b[1;33m\u001b[0m\u001b[1;33m\u001b[0m\u001b[0m\n",
      "\u001b[1;31mTypeError\u001b[0m: can only concatenate str (not \"int\") to str"
     ]
    }
   ],
   "source": [
    "summ = Class_Number+5\n",
    "print(summ)"
   ]
  },
  {
   "cell_type": "markdown",
   "id": "c8f10d84-0f52-4c64-a81c-799597efbb20",
   "metadata": {},
   "source": [
    " برای تغییر هویت آنها باید از روشی که در قسمت قبل استفاده کردیم استفاده کنیم"
   ]
  },
  {
   "cell_type": "code",
   "execution_count": 89,
   "id": "8e81a667-83c5-4d99-b67b-5146a98a8c16",
   "metadata": {},
   "outputs": [
    {
     "name": "stdout",
     "output_type": "stream",
     "text": [
      "8.14\n",
      "(11+16j)\n"
     ]
    }
   ],
   "source": [
    "print(float(Pi)+5)\n",
    "print(complex(complex_number)+7+8j)"
   ]
  },
  {
   "cell_type": "markdown",
   "id": "4f827953-ed70-4565-b9db-1456e58163e3",
   "metadata": {},
   "source": [
    "اما دو نکته وجود دارد اول اینکه می‌توان مستقیما داده‌ای که از کاربر می‌گیریم را تغییر هویت دهیم."
   ]
  },
  {
   "cell_type": "code",
   "execution_count": 71,
   "id": "9b718c54-a950-489a-a5a5-271a81d669c3",
   "metadata": {},
   "outputs": [
    {
     "name": "stdout",
     "output_type": "stream",
     "text": [
      "how old are you =  21\n"
     ]
    },
    {
     "name": "stdout",
     "output_type": "stream",
     "text": [
      "<class 'int'>\n"
     ]
    }
   ],
   "source": [
    "your_age = int(input(\"how old are you = \"))\n",
    "print(type(your_age))"
   ]
  },
  {
   "cell_type": "markdown",
   "id": "a11946a0-0b32-4845-ab67-651a71cf9ad3",
   "metadata": {},
   "source": [
    "و نکته دوم در خصوص اعشاری کردن عدد پای است. در آن مثال درست است که 3.14 شبیه اعداد اعشاری است ولی در واقع جز اعداد متعالی است و باید به روشی دیگر آن را در پایتون نوشت "
   ]
  },
  {
   "cell_type": "code",
   "execution_count": 82,
   "id": "fb40d557-8eb9-42e0-82e2-42694f9aaf8e",
   "metadata": {},
   "outputs": [
    {
     "name": "stdout",
     "output_type": "stream",
     "text": [
      "3.141592653589793\n",
      "قطر=  10\n",
      "شعاع=  5.0\n",
      "مساحت دایره=  78.53981633974483\n",
      "محیط دایره=  31.41592653589793\n"
     ]
    }
   ],
   "source": [
    "import math\n",
    "\n",
    "print(math.pi)\n",
    "diameter = 10\n",
    "radius = diameter/2\n",
    "area_of_circle = (math.pi) * radius**2\n",
    "circumference_of_circle = 2 * (math.pi) * radius\n",
    "\n",
    "print(\"قطر= \", diameter)\n",
    "print(\"شعاع= \", radius)\n",
    "print(\"مساحت دایره= \", area_of_circle)\n",
    "print(\"محیط دایره= \", circumference_of_circle)"
   ]
  },
  {
   "cell_type": "markdown",
   "id": "bac25b31-84c8-4f01-8474-0ec30b568e0d",
   "metadata": {},
   "source": [
    "در کد بالا برای وارد کردن عدد پای از کتابخانه‌های پایتون استفاده کردیم و آن را فراخوانی کردیم (ایمپورت کردن) و سپس محاسبات را انجام دادیم. پس برای اعداد متعالی نمی‌توانیم از هویت اعشاری استفاده کنیم."
   ]
  },
  {
   "cell_type": "markdown",
   "id": "ef11bb5f-d227-4891-b4da-670da88dc271",
   "metadata": {},
   "source": [
    "# توابع"
   ]
  },
  {
   "cell_type": "code",
   "execution_count": null,
   "id": "5569c2f1-35f0-4fd4-8b94-a0ffa7db8d9a",
   "metadata": {},
   "outputs": [],
   "source": [
    "print()\n",
    "str()\n",
    "float()\n",
    "int()\n",
    "input()\n",
    "type()"
   ]
  },
  {
   "cell_type": "markdown",
   "id": "72eb4be7-2e9a-4408-9e01-55a79946f2b3",
   "metadata": {},
   "source": [
    "توابع دستوراتی هستند که برای پایتون تعریف شده یا تعریف می‌شوند تا پایتون آنها را اجرا کند. به چیزهایی که یک تابع دریافت می‌کند تا عملیات تعریف شده‌ای را انجام دهد، آرگومان می‌گویند. تابع‌های بالا تابع‌‌های خود پایتون هستند در آدرس زیر تمامی تابع‌های خود پایتون را می‌توانید بیابید.\n",
    "\n",
    "https://docs.python.org/3/library/functions.html"
   ]
  },
  {
   "cell_type": "code",
   "execution_count": 92,
   "id": "6efa9410-7c2b-423f-821c-ba5ae21193f1",
   "metadata": {},
   "outputs": [
    {
     "name": "stdout",
     "output_type": "stream",
     "text": [
      "3\n",
      "3.0\n"
     ]
    }
   ],
   "source": [
    "e1 = 3.9\n",
    "e2 = 3\n",
    "\n",
    "print(int(e1))\n",
    "print(float(e2))"
   ]
  },
  {
   "cell_type": "markdown",
   "id": "6f41857e-71f8-4218-a284-74b5ab1c8d46",
   "metadata": {},
   "source": [
    "در نمونه‌های بالا برای تابع عدد صحیح تعریف شده که اعدادی که می‌گیرد به سمت پایین‌ترین عدد صحیح روند کند. می‌توان از تابع هلپ و یا داکسترینگ‌ جهت آگاه شدن از آرگومان‌هایی که یک تابع دریافت می‌کند بهره برد.  "
   ]
  },
  {
   "cell_type": "code",
   "execution_count": null,
   "id": "2f74e58b-8377-450c-bccf-fd71571c9452",
   "metadata": {},
   "outputs": [],
   "source": [
    "help(int) #چون نتیجه طولانی است آن را اجرا نمی‌کنم، در صورت تمایل توابع مختلف را خودتان به این شکل بررسی کنید"
   ]
  },
  {
   "cell_type": "code",
   "execution_count": 98,
   "id": "e186d01f-6c5e-4b17-910d-00896f25b6b6",
   "metadata": {},
   "outputs": [
    {
     "name": "stdout",
     "output_type": "stream",
     "text": [
      "int([x]) -> integer\n",
      "int(x, base=10) -> integer\n",
      "\n",
      "Convert a number or string to an integer, or return 0 if no arguments\n",
      "are given.  If x is a number, return x.__int__().  For floating point\n",
      "numbers, this truncates towards zero.\n",
      "\n",
      "If x is not a number or if base is given, then x must be a string,\n",
      "bytes, or bytearray instance representing an integer literal in the\n",
      "given base.  The literal can be preceded by '+' or '-' and be surrounded\n",
      "by whitespace.  The base defaults to 10.  Valid bases are 0 and 2-36.\n",
      "Base 0 means to interpret the base from the string as an integer literal.\n",
      ">>> int('0b100', base=0)\n",
      "4\n"
     ]
    }
   ],
   "source": [
    "print(int.__doc__)"
   ]
  },
  {
   "cell_type": "markdown",
   "id": "cf605650-130e-4c55-be39-10deb5a45b79",
   "metadata": {},
   "source": [
    "در داکسترینگ بالا مشاهده می‌شود که تابع عدد صحیح دو آرگومان دریافت می‌کند، عدد و پایه و همینطور که در ادامه نوشته این تابع استرینگ نیز دریافت می‌کند و پایه تابع به صورت عادی 10 است (از صفر تا ده، ده عدد وجود دارد) و حداکثر پایه‌ای که می‌توان داد 36 است (10 به علاوه تعداد حروف الفبای انگلیسی)."
   ]
  },
  {
   "cell_type": "code",
   "execution_count": 123,
   "id": "8c045974-d3df-4749-9e45-57450dfdd1a1",
   "metadata": {},
   "outputs": [
    {
     "name": "stdout",
     "output_type": "stream",
     "text": [
      "131\n",
      "371\n"
     ]
    },
    {
     "ename": "ValueError",
     "evalue": "invalid literal for int() with base 10: 'ab'",
     "output_type": "error",
     "traceback": [
      "\u001b[1;31m---------------------------------------------------------------------------\u001b[0m",
      "\u001b[1;31mValueError\u001b[0m                                Traceback (most recent call last)",
      "\u001b[1;32m~\\AppData\\Local\\Temp\\ipykernel_1216\\914337607.py\u001b[0m in \u001b[0;36m<module>\u001b[1;34m\u001b[0m\n\u001b[0;32m      3\u001b[0m \u001b[0mprint\u001b[0m\u001b[1;33m(\u001b[0m\u001b[0mint\u001b[0m\u001b[1;33m(\u001b[0m\u001b[0me3\u001b[0m\u001b[1;33m,\u001b[0m \u001b[1;36m12\u001b[0m\u001b[1;33m)\u001b[0m\u001b[1;33m)\u001b[0m\u001b[1;33m\u001b[0m\u001b[1;33m\u001b[0m\u001b[0m\n\u001b[0;32m      4\u001b[0m \u001b[0mprint\u001b[0m\u001b[1;33m(\u001b[0m\u001b[0mint\u001b[0m\u001b[1;33m(\u001b[0m\u001b[0me3\u001b[0m\u001b[1;33m,\u001b[0m \u001b[1;36m36\u001b[0m\u001b[1;33m)\u001b[0m\u001b[1;33m)\u001b[0m\u001b[1;33m\u001b[0m\u001b[1;33m\u001b[0m\u001b[0m\n\u001b[1;32m----> 5\u001b[1;33m \u001b[0mprint\u001b[0m\u001b[1;33m(\u001b[0m\u001b[0mint\u001b[0m\u001b[1;33m(\u001b[0m\u001b[0me3\u001b[0m\u001b[1;33m)\u001b[0m\u001b[1;33m)\u001b[0m\u001b[1;33m\u001b[0m\u001b[1;33m\u001b[0m\u001b[0m\n\u001b[0m",
      "\u001b[1;31mValueError\u001b[0m: invalid literal for int() with base 10: 'ab'"
     ]
    }
   ],
   "source": [
    "e3 = \"ab\"\n",
    "\n",
    "print(int(e3, 12))\n",
    "print(int(e3, 36))\n",
    "print(int(e3))"
   ]
  },
  {
   "cell_type": "markdown",
   "id": "9da34fad-3ff7-41c7-8369-5d67abfcfc5b",
   "metadata": {},
   "source": [
    "در کدهای بالا برای متغیر ایی3 یکبار پایه 12 در نظر گرفته و کد اجرا شده و عدد متناظر با آن که 131 پرینت گشته و در کد همان متغیر با پایه‌ای متفاوت به عدد صحیح تغییر یافته که عددی متفاوت با قبلی است. کد سوم به دلیل درست نبودن پایه 10 اجرا نشده. همانطور که گفته شد  پایه به صورت عادی 10 است. پس برای اجرا شدن کد اول باید پایه‌ای داده شود تا ای و بی شناخته شود که حداقل پایه‌ای که می‌توان داد 12 است.  "
   ]
  },
  {
   "cell_type": "markdown",
   "id": "1211dc45-9ad5-4296-a09c-8f637bf64e8c",
   "metadata": {},
   "source": [
    "## چرا از توابع استفاده کنیم؟"
   ]
  },
  {
   "cell_type": "markdown",
   "id": "e43a7a83-7d1c-48ed-8da9-a764c3e985b4",
   "metadata": {},
   "source": [
    "توابع ما را از نوشتن مجدد چندین خط کد بی‌ نیاز می‌کنند و تنها با نوشتن یک دستور هدفی که می‌خواهیم را برآورده می‌کنند. در برنامه‌هایی که می‌نویسیم شاید نیاز پیدا کنیم که کاری مکررا انجام شود که در این صورت باید از چگونگی ساخت و اجرای تابع‌ها آگاه باشیم. "
   ]
  },
  {
   "cell_type": "markdown",
   "id": "0932e239-9642-4b7c-a55d-9dad607fc5f3",
   "metadata": {},
   "source": [
    "## چگونه خودمان تابع تعریف کنیم؟"
   ]
  },
  {
   "cell_type": "code",
   "execution_count": 150,
   "id": "21d7db61-aef9-4c72-881f-7d3a8961cf83",
   "metadata": {},
   "outputs": [
    {
     "name": "stdout",
     "output_type": "stream",
     "text": [
      "Hi\n"
     ]
    }
   ],
   "source": [
    "def Hello(): #def stands for define\n",
    "    print(\"Hi\") #Indentation\n",
    "Hello()"
   ]
  },
  {
   "cell_type": "markdown",
   "id": "4d4f0011-8697-41dd-9ed5-3e69251ebd98",
   "metadata": {},
   "source": [
    "تعریف تابع مطابق کد بالا انجام می‌شود. در پرانتز اول می‌توانیم آرگومان‌های تابع را مشخص کنیم. وقتی آرگومانی ندارد دستوری که به آن داده‌ایم پرینت می‌شود. بعد از تعریف اولیه نوشتن : الزامی است و فاصله‌ای که در خط بعدی ایجاد می‌شود چهار اسپیس یا یک تب است و به دلایل زیر ایجادش می‌کنیم:\n",
    "\n",
    "- مشخص شدن بلاک تابع\n",
    "- جدا کردن بلاک‌های تو در تو (بلاک‌های تو در تو در آینده توضیح داده می‌شود)\n",
    "- حفظ شدن چارچوب: برای نمونه، متغیری که در بلاک تابع مشخص می‌شود با متغیری که خارج از آن تعریف می‌شود متفاوت است و در هنگام خواندن کد این چارچوب‌ها مهم است\n",
    "- بهتر خوانده شدن کد"
   ]
  },
  {
   "cell_type": "code",
   "execution_count": 134,
   "id": "071dc81c-a336-46e9-a0a2-f4d30a1cf6cd",
   "metadata": {},
   "outputs": [
    {
     "name": "stdout",
     "output_type": "stream",
     "text": [
      "Hello David\n"
     ]
    }
   ],
   "source": [
    "def Hello(name):\n",
    "    print(\"Hello\", name)\n",
    "Hello(\"David\")"
   ]
  },
  {
   "cell_type": "markdown",
   "id": "afb48811-3aba-4a9c-affb-799a22848769",
   "metadata": {},
   "source": [
    "برای تابع بالا یک آرگومان تعریف شده و بعد از وارد شدن آن دستور در کنار آرگومان وارد شده می‌آید "
   ]
  },
  {
   "cell_type": "code",
   "execution_count": 158,
   "id": "9dc2ffdc-e223-4ff0-93c6-ebbf1fb1edd0",
   "metadata": {},
   "outputs": [],
   "source": [
    "def adddition(a, b):\n",
    "    result = a + b\n",
    "    return result"
   ]
  },
  {
   "cell_type": "code",
   "execution_count": 162,
   "id": "c159ca95-8184-4033-a5b1-b2f59e871b9f",
   "metadata": {},
   "outputs": [
    {
     "data": {
      "text/plain": [
       "9"
      ]
     },
     "execution_count": 162,
     "metadata": {},
     "output_type": "execute_result"
    }
   ],
   "source": [
    "adddition(5,4)"
   ]
  },
  {
   "cell_type": "markdown",
   "id": "40a8ef8a-5131-4582-a3f4-a8052888744b",
   "metadata": {},
   "source": [
    "در تابع بالا دستور مربوط به جمع دو متغیر نوشته شده که در آن متغیری دیگر به نام ریزالت ساخته شده که از حاصل جمع دو آرگومان تابع است. دستور ریترن در پایان، متغیر ساخته شده را باز می‌گرداند. و در نهایت با وارد کردن آرگومان‌های تابع، دستور تابع اجرا می‌شود. "
   ]
  },
  {
   "cell_type": "markdown",
   "id": "b6c89ebf-e18c-4308-87ec-769162ed613d",
   "metadata": {},
   "source": [
    "## تابع تولید کاب داگلاس"
   ]
  },
  {
   "cell_type": "code",
   "execution_count": 177,
   "id": "47f1b6fe-b230-46e2-8c02-2ad86a7289e8",
   "metadata": {},
   "outputs": [],
   "source": [
    "# f(L,K) = A(L^a)*(K^b) 0<a<1 , 0<b<1"
   ]
  },
  {
   "cell_type": "code",
   "execution_count": 173,
   "id": "a9cc4001-c9a8-4654-b771-25eb8c93b099",
   "metadata": {},
   "outputs": [
    {
     "name": "stdout",
     "output_type": "stream",
     "text": [
      "how many labours do you have? =  12\n",
      "how much capital do you have? =  50\n"
     ]
    },
    {
     "name": "stdout",
     "output_type": "stream",
     "text": [
      "The value of the Cobb-Douglas function is: 48.98979485566356\n",
      " f(L,K) = A(L^a)*(K^b) 0<a<1 , 0<b<1\n"
     ]
    }
   ],
   "source": [
    "def cobb_douglas(L, K):\n",
    "    ''' f(L,K) = A(L^a)*(K^b) 0<a<1 , 0<b<1'''\n",
    "    A = 2\n",
    "    a = 0.5\n",
    "    b = 0.5\n",
    "    value_of_function = A * (L**a) * (K**b)\n",
    "    return value_of_function\n",
    "\n",
    "L = float(input(\"how many labours do you have? = \"))\n",
    "K = float(input(\"how much capital do you have? = \"))\n",
    "\n",
    "output = cobb_douglas(L, K)\n",
    "print(\"The value of the Cobb-Douglas function is:\", output)\n",
    "print(cobb_douglas.__doc__)"
   ]
  },
  {
   "cell_type": "markdown",
   "id": "52f136cb-afcb-49c1-8786-ecd83a5549d3",
   "metadata": {},
   "source": [
    "تابع کاب داگلاس فوق به گونه‌ای تعریف شده که متغیرهای سرمایه و نیروی کار از کاربر دریافت شود و چون می‌دانیم تابع اینپوت کلا استرینگ می‌دهد از تابع اعشاری استفاده شده تا داده دریافتی به عنوان عدد در نظر گرفته شود و در اجرای عملیات ریاضی اختلال ایجاد نکند. "
   ]
  },
  {
   "cell_type": "markdown",
   "id": "2c492d1d-d437-4b97-8d81-866b71674a50",
   "metadata": {},
   "source": [
    "# Control Flow Structures (ساختارهای کنترل جریان) Part 1"
   ]
  },
  {
   "cell_type": "markdown",
   "id": "b70b8aa6-190e-4e54-b51f-591cc380a83c",
   "metadata": {},
   "source": [
    "### Conditional Statements (گزاره‌های شرطی)"
   ]
  },
  {
   "cell_type": "markdown",
   "id": "2f196792-344c-454e-9849-0ca3400479af",
   "metadata": {},
   "source": [
    "ساختارهای کنترل جریان، ساختارهایی‌اند که بر ترتیب اجرا شدن کدها اثر می‌گذارند. این کار از طریق بررسی شرط‌ها و حلقه‌ها و تابع‌ها انجام می‌شود. برای مثال کد زیر را در نظر بگیرید"
   ]
  },
  {
   "cell_type": "code",
   "execution_count": 181,
   "id": "a541c3ec-f0ce-46cb-96ac-2ce5ec75c123",
   "metadata": {},
   "outputs": [
    {
     "name": "stdout",
     "output_type": "stream",
     "text": [
      "Please enter a four-letter word:  hello\n"
     ]
    },
    {
     "name": "stdout",
     "output_type": "stream",
     "text": [
      "hello is not a four-letter word.\n"
     ]
    }
   ],
   "source": [
    "word = input(\"Please enter a four-letter word: \")\n",
    "word_length = len(word)\n",
    "if word_length == 4:\n",
    "    print(word, \"is a four-letter word. Well done\")\n",
    "else: print(word, \"is not a four-letter word.\")"
   ]
  },
  {
   "cell_type": "markdown",
   "id": "bb195890-0d9a-4080-adbf-c87c5be96604",
   "metadata": {},
   "source": [
    "در کد بالا تعداد حروف کلمه‌ای که از کاربر گرفته‌ایم بررسی می‌شود و اگر تعداد حروف با 4 باشد عبارتی به خصوص پرینت می‌شود و اگر نباشد عبارتی دیگر.\n",
    "\n",
    "- اگر = if\n",
    "- اگر نباشد = else\n",
    "\n",
    "تابعی جدیدی که در این کد ارائه شده تابع \n",
    "- len\n",
    "\n",
    "است که کاربرد آن را گفتیم."
   ]
  },
  {
   "cell_type": "code",
   "execution_count": 185,
   "id": "f61dcc9c-d93f-433d-8453-69e20573e661",
   "metadata": {},
   "outputs": [
    {
     "name": "stdout",
     "output_type": "stream",
     "text": [
      "Please enter a four-letter word:  ask\n"
     ]
    },
    {
     "name": "stdout",
     "output_type": "stream",
     "text": [
      "ask is a three-letter word. Try again\n"
     ]
    }
   ],
   "source": [
    "word1 = input(\"Please enter a four-letter word: \")\n",
    "word_length1 = len(word1)\n",
    "if word_length1 == 4:\n",
    "    print(word1, \"is a four-letter word. Well done\")\n",
    "elif word_length1 == 3:\n",
    "    print(word1, \"is a three-letter word. Try again\")\n",
    "else: print(word1, \"is not a four-letter word.\")"
   ]
  },
  {
   "cell_type": "markdown",
   "id": "fcf6348b-1cd0-4ed9-8ee8-7b2fb7b72895",
   "metadata": {},
   "source": [
    "در کد بالا شرط سومی در بین شرط اگر و اگر نباشد اضافه کردیم که از ترکیب شرط اول و سوم ایجاد می‌شود و امکان ایجاد شرط دیگری را نیز فراهم می‌آورد. "
   ]
  },
  {
   "cell_type": "code",
   "execution_count": 1,
   "id": "722a6cd9-e171-479a-a0b2-81633fe2603f",
   "metadata": {},
   "outputs": [
    {
     "name": "stdout",
     "output_type": "stream",
     "text": [
      "1\n",
      "2\n",
      "3\n",
      "4\n",
      "5\n",
      "6\n",
      "7\n",
      "8\n",
      "9\n"
     ]
    }
   ],
   "source": [
    "x = 1\n",
    "while x < 10:\n",
    "    print(x)\n",
    "    x = x + 1"
   ]
  },
  {
   "cell_type": "markdown",
   "id": "bc53d832-a21e-4308-8f50-9559a16a6330",
   "metadata": {},
   "source": [
    "روش دیگر برای ساختار بندی کد استفاده از دستور وایل است که ویژگی آن این است که تا وقتی که نتیجه حاصل شود به پردازش ادامه می‌دهد. برای مثال اگر \n",
    "\n",
    "- x = x+1\n",
    "\n",
    "را در کد بالا حذف کنیم تا بی نهایت 1 پرینت خواهد شد چون کوچکتر از 10 است. "
   ]
  },
  {
   "cell_type": "markdown",
   "id": "b5b93775-76e8-466b-90d9-46f3732574b8",
   "metadata": {},
   "source": [
    "# تمرین"
   ]
  },
  {
   "cell_type": "markdown",
   "id": "b91ff3e0-b7bf-4bd3-8e05-7cd0f031e730",
   "metadata": {},
   "source": [
    "- محیط و مساحت دایره‌ای را با گرفتن شعاع از کاربر حساب کنید"
   ]
  },
  {
   "cell_type": "markdown",
   "id": "16456b37-a0cd-46bd-8832-e450af999c19",
   "metadata": {},
   "source": [
    "- ارزش آتی مبلغ 100 دلار را با نرخ بهره مرکب 5 درصد برای 6 سال را در دو حالت سالانه و شش ماهه محاسبه کنید.\n",
    "\n",
    "برای حالت شش ماهه از فرمول زیر استفاده کنید\n",
    " \n",
    " S = Pe^rt\n"
   ]
  },
  {
   "cell_type": "markdown",
   "id": "f20159bf-89f4-41af-83d8-44e9c4419f7e",
   "metadata": {},
   "source": [
    "- سن دو نفر را بگیرید. اگر همسن بودند عبارت زیر پرینت شود:\n",
    "\n",
    " You are the same age\n",
    "\n",
    "اگر همسن نبودند عبارت زیر پرینت شود\n",
    "\n",
    " You are not the same age"
   ]
  },
  {
   "cell_type": "markdown",
   "id": "8dd30dcb-12dd-4b52-971c-b82455c88ab1",
   "metadata": {},
   "source": [
    "- تابعی تعریف کنید که زوج بودن یا فرد بودن یک عدد را بررسی کند.\n",
    "اگر زوج بگوید زوج است و اگر فرد بود بگوید فرد است."
   ]
  }
 ],
 "metadata": {
  "kernelspec": {
   "display_name": "Python 3 (ipykernel)",
   "language": "python",
   "name": "python3"
  },
  "language_info": {
   "codemirror_mode": {
    "name": "ipython",
    "version": 3
   },
   "file_extension": ".py",
   "mimetype": "text/x-python",
   "name": "python",
   "nbconvert_exporter": "python",
   "pygments_lexer": "ipython3",
   "version": "3.9.13"
  }
 },
 "nbformat": 4,
 "nbformat_minor": 5
}
