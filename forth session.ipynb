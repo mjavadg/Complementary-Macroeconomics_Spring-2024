{
 "cells": [
  {
   "cell_type": "markdown",
   "metadata": {},
   "source": [
    "<div dir=\"rtl\">\n",
    "\n",
    "# ساختارهای کنترل جریان قسمت 2\n",
    "</div>\n"
   ]
  },
  {
   "cell_type": "markdown",
   "metadata": {},
   "source": [
    "<div dir=\"rtl\">\n",
    "\n",
    "برخی ساختارهای کنترل جریان در پایتون عبارتند از، ترتیبی، انتخابی و حلقه‌ای. در کنترل ترتیبی، هر کد به ترتیب اجرا می‌شود. که در زیر نمونه‌ای آورده شده.\n",
    "</div>"
   ]
  },
  {
   "cell_type": "code",
   "execution_count": 1,
   "metadata": {},
   "outputs": [
    {
     "name": "stdout",
     "output_type": "stream",
     "text": [
      "hours in a year =  8640\n",
      "number of months 12.0\n"
     ]
    }
   ],
   "source": [
    "days_in_a_year = 360 #روزهای یکسال\n",
    "hours_in_a_day = 24 #ساعات یک روز\n",
    "days_in_a_month = 30 #روزهای یک ماه\n",
    "\n",
    "hours_in_a_year = days_in_a_year * hours_in_a_day\n",
    "print(\"ساعات یکسال = \",hours_in_a_year)\n",
    "\n",
    "hours_in_a_month = days_in_a_month * hours_in_a_day\n",
    "\n",
    "number_of_months = hours_in_a_year / hours_in_a_month\n",
    "print(\"ماه‌های یکسال\",number_of_months)\n"
   ]
  },
  {
   "cell_type": "markdown",
   "metadata": {},
   "source": [
    "<div dir=\"rtl\">\n",
    "\n",
    "در کد بالا ابتدا سه متغیر روزهای یکسال و ساعات یک روز و روزهای یک ماه تعریف شدند و در گام اول متغیر ساعات یکسال حساب شد و در مموری پایتون ذخیره شد و در نهایت از آن برای محاسبه ماه‌های یکسال محاسبه شد.\n",
    "\n",
    ".در این ساختار کدها به ترتیب نوشته شدن اجرا می‌شوند \n",
    "</div>"
   ]
  },
  {
   "cell_type": "markdown",
   "metadata": {},
   "source": [
    "<div dir=\"rtl\">\n",
    "\n",
    "\n",
    "</div>"
   ]
  },
  {
   "cell_type": "markdown",
   "metadata": {},
   "source": [
    "<div dir=\"rtl\">\n",
    "\n",
    "در ساختار کنترل انتخابی که به آن گزارهای شرطی نیز می‌گوییم، انتخاب می‌کنیم که در صورت برقرار بودن عبارت یا شرطی پایتون چه کاری را انجام دهد. برای نمونه در یک کلاس درسی اگر دانش آموزی بین 1 تا 4 سوال را اشتباه جواب دهد الف می‌گیرد و اگر 5 تا 8 اشتباه داشته باشد ب می‌گیرد و اشتباه‌های بیشتر ث می‌گیرند.\n",
    "\n",
    "در این حالت برای معلم طبق شرایط برگه امتحان انتخاب‌هایی برای وارد کردن نمره وجود دارد. در پایتون نیز به همین شکل است که در زیر کد آن آمده.\n",
    "</div>"
   ]
  },
  {
   "cell_type": "code",
   "execution_count": 23,
   "metadata": {},
   "outputs": [
    {
     "name": "stdout",
     "output_type": "stream",
     "text": [
      "A\n"
     ]
    }
   ],
   "source": [
    "number_of_mistakes = 2\n",
    "\n",
    "if 1 <= number_of_mistakes <= 4:\n",
    "    print(\"A\")\n",
    "elif 5 <= number_of_mistakes <= 8:\n",
    "    print(\"B\")\n",
    "else:\n",
    "    print(\"C\")"
   ]
  },
  {
   "cell_type": "markdown",
   "metadata": {},
   "source": [
    "<div dir=\"rtl\">\n",
    "\n",
    "در کد بالا ابتدا متغیری برای تعداد اشتباهات برگه امتحانی تعریف شده و سپس گزاره‌های شرطی برای پایتون تعریف شده که نسبت به تعداد متفاوت اشتباهات واکنش‌های متفاوتی بدهد.\n",
    "\n",
    "در این حالت ترتیب خاصی درکار نیست و فقط انتخاب کرده‌ایم که برای شرایط مختلف کدام کد اجرا شود.\n",
    "</div>"
   ]
  },
  {
   "cell_type": "markdown",
   "metadata": {},
   "source": [
    "<div dir=\"rtl\">\n",
    "\n",
    "یکی از حالت‌های کنترل جریان حلقه‌ای به این شرح است که تا زمانی شرطی تامین می‌شود پایتون دستوری را اجرا می‌کند. همانند کد زیر که تا زمانی که عدد از 10 کوچکتر است پایتون دستور داده شده را اجرا می‌کند.\n",
    "</div>"
   ]
  },
  {
   "cell_type": "code",
   "execution_count": 8,
   "metadata": {},
   "outputs": [
    {
     "name": "stdout",
     "output_type": "stream",
     "text": [
      "1\n",
      "2\n",
      "4\n",
      "8\n"
     ]
    }
   ],
   "source": [
    "i = 1\n",
    "while i <= 10:\n",
    "    print(i)\n",
    "    i += i"
   ]
  },
  {
   "cell_type": "markdown",
   "metadata": {},
   "source": [
    "<div dir=\"rtl\">\n",
    "\n",
    "\n",
    "در کد بالا ابتدا آی مساوی با 1 در نظر گرفته شده و تا زمانی کوچکتر از مساوی ده است کد اجرا می‌شود. خود مقدار آی نیز توسط خط آخر کد تغییر می‌کند. \n",
    "\n",
    "ابتدا یک پرینت می‌شود چون یک کوچکتر مساوی 10 است. سپس طبق خط آخر آی با آی جمع می‌شود (1+1) که جواب 2 است و اکنون آی برابر است با 2 و بنابراین 2 نیز پرینت می‌شود و اکنون آی برابر 2 است پس 2 با 2 جمع می‌شود و چهار بدست می ‌آید و به همین ترتیب پیش می‌رود تا زمانی که شرط برقرار نباشد که زمانی برقرار نمی‌شود که 8 با 8 جمع شود. چون در آن صورت آی برابر با 16 خواهد بود و بزرگتر از 10.\n",
    "</div>"
   ]
  },
  {
   "cell_type": "markdown",
   "metadata": {},
   "source": [
    "<div dir=\"rtl\">\n",
    "\n",
    "حالت دیگر کنترل جریان برای تکرار کاری بر دنباله‌ای از استرینگ‌ها، دامنه‌ای از اعداد، لیست‌ها، دیشکنری‌ها و تاپل‌ها است.\n",
    " به مثال‌ها و توضیحات که در ادامه می‌آیند توجه کنید.\n",
    "</div>"
   ]
  },
  {
   "cell_type": "code",
   "execution_count": 32,
   "metadata": {},
   "outputs": [
    {
     "name": "stdout",
     "output_type": "stream",
     "text": [
      "L\n",
      "i\n",
      "a\n",
      "m\n"
     ]
    }
   ],
   "source": [
    "name = input(\"what is your name? = \")\n",
    "for char in name:\n",
    "    print(char)\n"
   ]
  },
  {
   "cell_type": "markdown",
   "metadata": {},
   "source": [
    "<div dir=\"rtl\">\n",
    "\n",
    "در کد بالا اسم کاربر را می‌گیریم و به پایتون می‌گوییم حروف اسم کاربر را پرینت کند.\n",
    "نکته در  \n",
    "char\n",
    "است که مخفف کاراکتر است. در واقع به پایتون می‌گوییم هر کاراکتر را که دیدی از آن پرینت بگیر. اما چرا\n",
    "char?\n",
    "همینجوری! هر چیز دیگری می‌شد نوشت و اصول خاصی ندارد و به سلیقه شما وابسته است.\n",
    "<div>"
   ]
  },
  {
   "cell_type": "code",
   "execution_count": 34,
   "metadata": {},
   "outputs": [
    {
     "name": "stdout",
     "output_type": "stream",
     "text": [
      "0\n",
      "1\n",
      "2\n",
      "3\n",
      "4\n"
     ]
    }
   ],
   "source": [
    "for i in range(0,5):\n",
    "    print(i)"
   ]
  },
  {
   "cell_type": "markdown",
   "metadata": {},
   "source": [
    "<div dir=\"rtl\">\n",
    "\n",
    "در کد بالا از پایتون می‌خواهیم اعداد دامنه 0 تا 5 را پرینت بگیر.\n",
    "اینکه از حرف\n",
    "i\n",
    "استفاده شده سلیقه‌ای است و حتی امکان نوشتن\n",
    "char\n",
    "نیز ممکن بوده. پس سلیقه‌ای است.\n",
    "</div>"
   ]
  },
  {
   "cell_type": "markdown",
   "metadata": {},
   "source": [
    "<div dir=\"rtl\">\n",
    "\n",
    " در ادامه ساختار کنترل‌‌های شرطی و حلقه‌ای به همراه کاربرد آن‌ها در تعریف تابع‌ها را می‌آوریم \n",
    "</div>"
   ]
  },
  {
   "cell_type": "markdown",
   "metadata": {},
   "source": [
    "# If statements"
   ]
  },
  {
   "cell_type": "code",
   "execution_count": 4,
   "metadata": {},
   "outputs": [
    {
     "name": "stdout",
     "output_type": "stream",
     "text": [
      "the area is 16\n",
      "the shape is rectangle\n"
     ]
    }
   ],
   "source": [
    "side_A = int(input(\"what is the length of a side of this 4 sided surface? \"))\n",
    "side_B = int(input(\"what is the length of a side of this 4 sided surface? \"))\n",
    "side_C = int(input(\"what is length of a side of this 4 sided surface? \"))\n",
    "\n",
    "\n",
    "if side_A == side_B == side_C:\n",
    "    print (\"the shape is square\")\n",
    "else: print (\"the shape is rectangle\")"
   ]
  },
  {
   "cell_type": "markdown",
   "metadata": {},
   "source": [
    "<div dir=\"rtl\">\n",
    "\n",
    "در کد بالا هدف این است که مربع یا مستطیل بودن شکل مشخص شود. اگر 3 ضلع با هم برابر باشند شکل مربع است و اگر نباشند شکل مستطیل است. پس ابتدا سه ضلع از کاربر گرفته می‌شوند و سپس با گزاره‌های شرطی بررسی می‌شود که آیا شکل مربع است یا مستطیل. \n",
    "\n",
    "اما می‌توان تابعی تعریف کرد که نوع شکل را معین کند.  \n",
    "</div>"
   ]
  },
  {
   "cell_type": "code",
   "execution_count": 15,
   "metadata": {},
   "outputs": [
    {
     "name": "stdout",
     "output_type": "stream",
     "text": [
      "the shape is square because the lengths of sides 6 and 6 and 6 are equal\n"
     ]
    }
   ],
   "source": [
    "def determine_shape(s_A, s_B, s_c):\n",
    "    if s_A == s_B == s_C:\n",
    "         return(f\"the shape is square because the lengths of sides {s_A} and {s_B} and {s_C} are equal\")\n",
    "    else:\n",
    "         return(f\"The shape is a rectangle because the lengths of sides {s_A} and {s_B} and {s_C} have different sizes\")\n",
    "\n",
    "s_A = int(input(\"what is the length of a side of this 4 sided surface? \"))\n",
    "s_B = int(input(\"what is the length of a side of this 4 sided surface? \"))\n",
    "s_C = int(input(\"what is the length of a side of this 4 sided surface? \"))\n",
    "\n",
    "shape = determine_shape(s_A, s_B, s_C)\n",
    "\n",
    "print(shape)"
   ]
  },
  {
   "cell_type": "markdown",
   "metadata": {},
   "source": [
    "<div dir = \"rtl\">\n",
    "\n",
    "همانطور که در تابع مشاهده می‌شود اگر 3 ضلع برابر باشند مربع بودن شکل تایید می‌شود و اگر نباشند شکل مستطیل است. \n",
    "ابتدا تابع تعریف می‌شود سپس متغیرهای تابع را می‌توان مشخص نمود که در اینجا از کاربر دریافت می‌شوند اما همچنین می‌شد بجای گرفتن داده از کاربر خودمان اندازه سه ضلع را در نظر بگیریم. ولی در کل حتی نیازی به عدد دادن به متغیرها نیست چون وقتی تابع تعریف شود با گذاشتن مقادیر در آن نتیجه‌ی آن مشخص خواهد بود برای مثال:\n",
    "</div>"
   ]
  },
  {
   "cell_type": "code",
   "execution_count": 6,
   "metadata": {},
   "outputs": [
    {
     "data": {
      "text/plain": [
       "'The shape is a rectangle because the lengths of sides 4 and 4 are different'"
      ]
     },
     "execution_count": 6,
     "metadata": {},
     "output_type": "execute_result"
    }
   ],
   "source": [
    "determine_shape(4, 4, 4) #اصولا باید متغیری برای آن تعریف شود تا نتیجه پرینت شود و اگر در اینجا بدون نیاز به آن پرینت به علت فرمت فایل نوت بوک است.\n",
    "\n",
    "#a = determine_shape(4, 4, 4) #منظور از کامنت بالا این دو کد است\n",
    "#print(a)"
   ]
  },
  {
   "cell_type": "markdown",
   "metadata": {},
   "source": [
    "<div dir = \"rtl\">\n",
    "\n",
    "پس به صورت کلی تابع تعریف می‌شود سپس شیوه‌ی تعیین مقدار متغیرها طبق کاربرد تابع مشخص می‌شود.\n",
    "در آن کد متغیر \n",
    "shape\n",
    "نیز تعریف شده که در واقع روشی دقیقتر برای کار با مقدار تابع است. متغیر \n",
    "shape\n",
    "به عنوان مقدار تابع تعریف شده است و در پایان از آن پرینت گرفته می‌شود\n",
    "</div>"
   ]
  },
  {
   "cell_type": "markdown",
   "metadata": {},
   "source": [
    "<div dir = \"rtl\">\n",
    "\n",
    "نکته‌ای دیگر که در تعریف تابع فوق وجود داشت در این دو خط بود\n",
    "\n",
    "return(f\"the shape is square because the lengths of sides {s_A} and {s_B} and {s_C} are equal\")\n",
    "\n",
    "و\n",
    "\n",
    "\n",
    "return(f\"The shape is a rectangle because the lengths of sides {s_A} and {s_B} and {s_C} have different sizes\")\n",
    "\n",
    "\n",
    "می‌شد فقط نوشت\n",
    "return(\"the shape is square\")\n",
    "\n",
    "ولی نقش\n",
    "f\n",
    "چیست؟\n",
    "\n",
    "در واقع بدون \n",
    "f \n",
    "استرینگ خالی است ولی با \n",
    "f\n",
    "تبدیل به\n",
    "f-string\n",
    "می‌شود که می‌توان متغیرها را مستقیما در استرینگ نیز پرینت گرفت که برای اینکار متغیر را در\n",
    "{}\n",
    "قرار می‌دهیم.\n",
    "\n",
    "در جلسه‌های قبلی برای اینکه متغیر و استرینگ را کنار هم بیاوریم از دستور زیر استفاده می‌کردیم\n",
    "\n",
    "print(\"hi\", variable, \"is my name\")\n",
    "</div>"
   ]
  },
  {
   "cell_type": "markdown",
   "metadata": {},
   "source": [
    "# If-elif-else statements"
   ]
  },
  {
   "cell_type": "markdown",
   "metadata": {},
   "source": [
    "<div dir=\"rtl\">\n",
    "\n",
    "در سیستم اخلاقی معرفی شده‌ی جان رالز(1971)، رفاه اجتماعی توسط وضعیت بدترین فرد تعیین می‌شود. به معنای دیگر مطلوبیت آن فرد به معنای مطلوبیت کل جامعه است. به بیان ریاضی:\n",
    "\n",
    "W = min[u_1, ..., u_n]\n",
    "\n",
    "در جامعه‌ای با رویکرد مطلوبیت گرایانه رفاه اجتماعی توسط مجموع تمام مطلوبیت‌های افراد تعیین می‌شود و هدف زیاد کردن مقدار کل است که در بیان ریاضی به شکل زیر نشا داده می‌شود:\n",
    "\n",
    "W = u_1 + u_2 + ... + u_n\n",
    "\n",
    "سوال این است: چطور چنین مفاهیمی را پایتون پیاده کنیم و بین دو حالت مقایسه انجام دهیم؟\n",
    "می‌توان دو تا تابع برای هر کدام تعریف کرد و نتایجشان پرینت گرفت\n",
    "</div>"
   ]
  },
  {
   "cell_type": "code",
   "execution_count": 8,
   "metadata": {},
   "outputs": [
    {
     "name": "stdout",
     "output_type": "stream",
     "text": [
      "Utilitarian total utility: 550\n",
      "Rawlsian utility: 10\n"
     ]
    }
   ],
   "source": [
    "def utilitarian(utilities):\n",
    "    return sum(utilities)\n",
    "\n",
    "def rawlsian(utilities):\n",
    "    return min(utilities)\n",
    "\n",
    "people = [10, 20, 30, 40, 50, 60, 70, 80, 90, 100]  # utilities for 10 people\n",
    "\n",
    "print(\"Utilitarian total utility:\", utilitarian(people))\n",
    "print(\"Rawlsian utility:\", rawlsian(people))\n"
   ]
  },
  {
   "cell_type": "markdown",
   "metadata": {},
   "source": [
    "<div dir=\"rtl\">\n",
    "\n",
    " در اینجا در خصوص اینکه کدام اقتصاد بهتر است یا اینکه کدام اخلاقی‌تر است صحبتی نمی‌کنیم و فقط در خصوص شیوه‌ی اجرای کدها صحبت می‌کنیم و خواننده می‌تواند به منابع مربوطه مراجعه کند و همچنین که از خواننده تقاضا می‌شود تا از نتیجه‌ی این کد در خصوص بهتر بودن یا بدتر دیدگاه رالزی و مطلوبیت‌گرا نتیجه‌ای نگیرد و فقط نحوه پیاده شدن این ایده‌ها را در پایتون در نظر داشته باشد زیرا صحبت درباره این دو دیدگاه بحثی تخصصی و جدا از پایتون است.\n",
    "\n",
    " در کد بالا سه مورد جدید است. اولی استفاده از تابع\n",
    " sum()\n",
    " است که مشخصا برای جمع کردن بکار می‌رود اما تابع آن انتظار دریافت دنباله‌ای تکرارپذیر را  دارد و نمی‌توان از آن انتظار داشت که دستور \n",
    " sum(5,6)\n",
    " را اجرا کند.\n",
    " اما دنباله‌ای تکرار پذیر در کد بالا کدام است؟\n",
    "people = [10, 20, 30, 40, 50, 60, 70, 80, 90, 100]  دنباله‌ای تکرارپذیر است که در پایتون به آن لیست می‌گوییم.\n",
    "</div>"
   ]
  },
  {
   "cell_type": "code",
   "execution_count": 9,
   "metadata": {},
   "outputs": [
    {
     "name": "stdout",
     "output_type": "stream",
     "text": [
      "<class 'list'>\n"
     ]
    }
   ],
   "source": [
    "print(type(people))"
   ]
  },
  {
   "cell_type": "markdown",
   "metadata": {},
   "source": [
    "<div dir=\"rtl\">\n",
    "\n",
    "لیست‌ها ویژگی‌های زیر را دارند:\n",
    "1. مرتبند که یعنی ‌می‌توان عملیات‌های زیر را بر آنها اجرا کرد:\n",
    "- بریدن یا \n",
    "slicing\n",
    "که یعنی اختیار در نظر گرفتن بخشی از داده‌های لیست\n",
    "- ایندکسینگ که یعنی می‌توان داده‌ها را با توجه به موقعیتشان در لیست فراخوانی کرد\n",
    "- عملیات‌های جزئی که اجزا می‌دهد فقط قسمتی از داده‌های لیست تحت تاثیر کاری که می‌خواهیم قرار گیرند\n",
    "- Sorting\n",
    "- برعکس کردن\n",
    "</div>"
   ]
  },
  {
   "cell_type": "code",
   "execution_count": 11,
   "metadata": {},
   "outputs": [
    {
     "name": "stdout",
     "output_type": "stream",
     "text": [
      "[30, 40, 50, 60, 70, 80, 90, 100]\n"
     ]
    }
   ],
   "source": [
    "print(people[2:]) #برش دادن داده و حذف دو داده‌ی اول"
   ]
  },
  {
   "cell_type": "code",
   "execution_count": 16,
   "metadata": {},
   "outputs": [
    {
     "name": "stdout",
     "output_type": "stream",
     "text": [
      "10\n"
     ]
    }
   ],
   "source": [
    "print(people[0]) #ایندکسینگ و فراخوانی موقعیت داده. در لیست‌ها موقعیت اولیه 0 است نه 1"
   ]
  },
  {
   "cell_type": "code",
   "execution_count": 12,
   "metadata": {},
   "outputs": [
    {
     "name": "stdout",
     "output_type": "stream",
     "text": [
      "[1.0, 20, 3.0, 40, 5.0, 60, 7.0, 80, 9.0, 100]\n"
     ]
    }
   ],
   "source": [
    "people = [10, 20, 30, 40, 50, 60, 70, 80, 90, 100]\n",
    "divided_people = [value/10 if index % 2 == 0 else value for index, value in enumerate(people)]  #عملیات‌های جزیی\n",
    "print(divided_people)\n"
   ]
  },
  {
   "cell_type": "code",
   "execution_count": 17,
   "metadata": {},
   "outputs": [
    {
     "name": "stdout",
     "output_type": "stream",
     "text": [
      "[1, 2, 3, 4, 5, 6, 7, 8, 9]\n"
     ]
    }
   ],
   "source": [
    "numbers = [5, 1, 9, 3, 7, 6, 2, 8, 4] #sorting\n",
    "numbers.sort()\n",
    "print(numbers)"
   ]
  },
  {
   "cell_type": "code",
   "execution_count": null,
   "metadata": {},
   "outputs": [],
   "source": [
    "people = [10, 20, 30, 40, 50, 60, 70, 80, 90, 100] #برعکس کردن\n",
    "people.reverse()\n",
    "print(people)\n"
   ]
  },
  {
   "cell_type": "markdown",
   "metadata": {},
   "source": [
    "<div dir=\"rtl\">\n",
    "\n",
    "لیست‌ها ویژگی‌های زیر را دارند:\n",
    "2. قابل تغییرند و هویتشان با تغییر دادن محتوای لیست تغییر نمی‌کند (در بالا مثال آمد)\n",
    "3. پویا هستند و می‌توان محتوای لیست را تغییر داد\n",
    "4. لیست‌ها می‌توانند تو در تو باشند\n",
    "5. محتوای لیست می‌تواند ناهمگون باشد و شبیه هم نباشند\n",
    "\n",
    "</div>"
   ]
  },
  {
   "cell_type": "code",
   "execution_count": 23,
   "metadata": {},
   "outputs": [
    {
     "name": "stdout",
     "output_type": "stream",
     "text": [
      "['microeconomics', 'macroeconomics', 'econometrics']\n"
     ]
    }
   ],
   "source": [
    "economics_courses = [] #لیستی خالی\n",
    "economics_courses.append('microeconomics') #اضافه شدن به لیست\n",
    "economics_courses.append('macroeconomics')\n",
    "economics_courses.append('econometrics')\n",
    "\n",
    "print(economics_courses)\n",
    "\n",
    "#این مثالی برای پویایی لیست‌ها است\n"
   ]
  },
  {
   "cell_type": "code",
   "execution_count": 26,
   "metadata": {},
   "outputs": [
    {
     "name": "stdout",
     "output_type": "stream",
     "text": [
      "['microeconomics', 'math for economics', 'math for economics', 'macroeconomics', 'econometrics']\n"
     ]
    }
   ],
   "source": [
    "economics_courses.insert(1, 'math for economics') #اضافه کردن با مشخص کردن موقعیت اضافه شدن\n",
    "print(economics_courses)"
   ]
  },
  {
   "cell_type": "code",
   "execution_count": 27,
   "metadata": {},
   "outputs": [
    {
     "name": "stdout",
     "output_type": "stream",
     "text": [
      "['microeconomics', 'math for economics', 'math for economics', 'econometrics']\n"
     ]
    }
   ],
   "source": [
    "economics_courses.remove('macroeconomics') #حذف\n",
    "print(economics_courses)"
   ]
  },
  {
   "cell_type": "code",
   "execution_count": 28,
   "metadata": {},
   "outputs": [
    {
     "name": "stdout",
     "output_type": "stream",
     "text": [
      "['microeconomics', 'math for economics', 'econometrics']\n"
     ]
    }
   ],
   "source": [
    "economics_courses.pop(2) #حذف به وسیله صدا کردن موقعیت در لیست\n",
    "print(economics_courses)"
   ]
  },
  {
   "cell_type": "markdown",
   "metadata": {},
   "source": [
    "<div dir=\"rtl\">\n",
    "\n",
    "اما برگردیم به بحث تابع‌های رالزی و مطلوبیت‌گرا. در آن تابع همچنین از تابع \n",
    "min()\n",
    "استفاده شده که همانند تابع\n",
    "sum()\n",
    "روی دنباله‌ای تکرارپذیر اجرا می‌شود اما برخلاف \n",
    "sum()\n",
    "توانایی استفاده شدن به صورت مستقل را دارد.\n",
    "</div>"
   ]
  },
  {
   "cell_type": "code",
   "execution_count": 29,
   "metadata": {},
   "outputs": [
    {
     "name": "stdout",
     "output_type": "stream",
     "text": [
      "1\n"
     ]
    }
   ],
   "source": [
    "oo = min(5, 7, 1 , 2, 20)\n",
    "print(oo)"
   ]
  },
  {
   "cell_type": "markdown",
   "metadata": {},
   "source": [
    "<div dir=\"rtl\">\n",
    "\n",
    "برای پیاده کردن رویکرد رالزی و مطلوبیت‌گرا در پایتون لزوما نیاز به تعریف دو تا تابع نداریم بلکه می‌توانیم از یک تابع که هر دو را پوشش می‌دهد استفاده کنیم. همچنین می‌توانیم از نتایج تابع برای مثایسه دو رویکرد استفاده کنیم.\n",
    "</div>"
   ]
  },
  {
   "cell_type": "code",
   "execution_count": 12,
   "metadata": {},
   "outputs": [
    {
     "name": "stdout",
     "output_type": "stream",
     "text": [
      "Utilitarian total utility: 550\n",
      "Rawlsian maximin utility: 10\n",
      "The utilitarian approach brings more utility to the society.\n"
     ]
    }
   ],
   "source": [
    "def calculate_utility1(utilities, approach):\n",
    "    if approach == 'utilitarian':\n",
    "        return sum(utilities)\n",
    "    elif approach == 'rawlsian':\n",
    "        return min(utilities)\n",
    "    else:\n",
    "        return \"different approach\"\n",
    "\n",
    "people = [10, 20, 30, 40, 50, 60, 70, 80, 90, 100]  \n",
    "\n",
    "utilitarian_utility = calculate_utility1(people, 'utilitarian') \n",
    "rawlsian_utility = calculate_utility1(people, 'rawlsian')\n",
    "\n",
    "print(\"Utilitarian total utility:\", utilitarian_utility)\n",
    "print(\"Rawlsian maximin utility:\", rawlsian_utility)\n",
    "\n",
    "if utilitarian_utility > rawlsian_utility:\n",
    "    print(\"The utilitarian approach brings more utility to the society.\")\n",
    "elif rawlsian_utility > utilitarian_utility:\n",
    "    print(\"The Rawlsian approach brings more utility to the society.\")\n",
    "else:\n",
    "    print(\"Both approaches bring the same utility to the society.\")"
   ]
  },
  {
   "cell_type": "markdown",
   "metadata": {},
   "source": [
    "<div dir = \"rtl\">\n",
    "\n",
    "در کد بالا ابتدا تابعی با دو آرگومان مطلوبیت و رویکرد تعریف شده که اگر رویکرد مطلوبیت‌گرا باشد، مطلوبیت‌ها را با هم جمع می‌کند\n",
    "(if)\n",
    "و اگر رویکرد رالزی باشد حداقل مطلوبیت‌ها را در نظر می‌گیرد\n",
    "(min)\n",
    "و در انتها نیز اگر رویکرد مطابق تعارف نباشد، رویکردی متفاوت پرینت خواهد شد.\n",
    "\n",
    "در ادامه دو متغیر برای دو رویکرد تعریف شده که هر کدام آرگومان متفاوتی دارند و در نتیجه مقدار تابع مطلوبیت آنها متفاوت خواهد بود. از آن دو متغیر برای مقایسه دو رویکرد استفاده شده است. با استفاده از \n",
    "elif\n",
    "می‌توان شروط بیشتری به گزاره‌ها افزود.\n",
    "\n",
    "اما در این کد از کاربر داده‌ای دریافت نمی‌شود و همچنین برای مقایسه دو رویکرد دو متغیر جدید تعریف می‌گردد ولی می‌توان تابع را جوری نوشت که از کاربر رویکرد را دریافت کند و همینطور دو حالت اقتصادی توسط خود تابع‌ها مقایسه شوند\n",
    "</div>"
   ]
  },
  {
   "cell_type": "code",
   "execution_count": 14,
   "metadata": {},
   "outputs": [
    {
     "name": "stdout",
     "output_type": "stream",
     "text": [
      "the rawlsian utility is=  10\n",
      "The utilitarian approach brings more utility to the society.\n"
     ]
    }
   ],
   "source": [
    "def calculate_utility2(utilities, approach):\n",
    "    if approach.lower() == 'utilitarian':\n",
    "        return sum(utilities)\n",
    "    elif approach.lower() == 'rawlsian':\n",
    "        return min(utilities)\n",
    "    else:\n",
    "        return \"Invalid approach. Please choose either 'utilitarian' or 'rawlsian'.\"\n",
    "\n",
    "people = [10, 20, 30, 40, 50, 60, 70, 80, 90, 100]  \n",
    "approach = approach = input(\"Please enter the approach (utilitarian or rawlsian): \") \n",
    "print(f\"the {approach.lower()} utility is= \", calculate_utility2(people, approach))\n",
    "\n",
    "\n",
    "if calculate_utility2(people, 'utilitarian') > calculate_utility2(people, 'rawlsian'):\n",
    "    print(\"The utilitarian approach brings more utility to the society.\")\n",
    "elif calculate_utility2(people, 'rawlsian') > calculate_utility2(people, 'utilitarian'):\n",
    "    print(\"The Rawlsian approach brings more utility to the society.\")\n",
    "else:\n",
    "    print(\"Both approaches bring the same utility to the society.\")\n"
   ]
  },
  {
   "cell_type": "markdown",
   "metadata": {},
   "source": [
    "<div dir = \"rtl\">\n",
    "\n",
    "تابع تعریف شده شبیه تابع تعریف شده قبلی است اما چون از کاربر داده را دریافت می‌کنیم بهتر است که شرطی که تعریف می‌کنیم فراگیرتر باشد. در حالت عادی برابری\n",
    "approach == 'rawlsian'\n",
    "بررسی می‌شود. ولی اگر کاربر\n",
    "Rawlsian\n",
    "وارد کند، پایتون خطا خواهد داد چون برای \n",
    "approach\n",
    "تعریف شده که با \n",
    "'rawlsian'\n",
    "برابر باشد نه با\n",
    "'Rawlsian'\n",
    "از همین رو باید به پایتون گفت رویکردی که از کاربر دریافت می‌کند با همواره با حروف کوچک است (این طور نیز در تابع تعریف شده) که اگر کاربر از حروف بزرگ استفاده کرد مشکلی پیش نیاید. پس منطق استفاده از \n",
    "lower()\n",
    "در \n",
    "approach.lower()\n",
    "این است.\n",
    "\n",
    "متغیر \n",
    "approach\n",
    "به گونه‌ای تعریف شده که کاربر آن را وارد کند و سپس از \n",
    "f-string\n",
    "برای پرینت گرفتن نتیجه آن استفاده شده است. می‌توانستیم میزان مطلوبیت رویکرد مطلوبیت‌گرا را نیز در آن قسمت به شکل زیر اضافه کنیم.\n",
    "\n",
    "print(f\"the {approach} utility is= \", calculate_utility2(people, approach), \"and the utilitarian utility is =\", calculate_utility2(people, 'utilitarian'))\n",
    "\n",
    "در قسمت مقایسه دو رویکرد این بار از خود تابع بهره بردیم. در آرگومان‌های خود رویکرد را به شکل استرینگ می‌نویسم تا تابع با توجه به نحوی که تعریف شده آن را محاسبه کند. می‌شد مقادیر دو تابع نیز در مقایسه‌ها به شکل زیر آورده شود.\n",
    "\n",
    "print(\"The utilitarian approach brings more utility to the society because\", calculate_utility2(people, 'utilitarian'),\"brings more utiliy than\", calculate_utility2(people, 'rawlsian'))\n",
    "</div>"
   ]
  },
  {
   "cell_type": "markdown",
   "metadata": {},
   "source": [
    "# Nested If statements \n"
   ]
  },
  {
   "cell_type": "markdown",
   "metadata": {},
   "source": [
    "<div dir = \"rtl\">\n",
    "\n",
    "در کد زیر می‌خواهیم بررسی کنیم که آیا عدد وارد شده مثبت است یا منفی یا صفر\n",
    "</div>"
   ]
  },
  {
   "cell_type": "code",
   "execution_count": 22,
   "metadata": {},
   "outputs": [
    {
     "name": "stdout",
     "output_type": "stream",
     "text": [
      "6 is positive\n"
     ]
    }
   ],
   "source": [
    "numbber = round(float(input(\"enter a number \")))\n",
    "\n",
    "# if-elif-else statement\n",
    "if numbber < 0:\n",
    "    print(f'{numbber} is negative')\n",
    "elif numbber == 0:\n",
    "    print(f'{numbber} is 0')\n",
    "else:\n",
    "    print(f'{numbber} is positive')\n"
   ]
  },
  {
   "cell_type": "markdown",
   "metadata": {},
   "source": [
    "<div dir = \"rtl\">\n",
    "\n",
    "حال اگر بخواهیم بررسی کنیم که آیا عدد وارد شده هم مثلا منفی است و هم زوج از \n",
    "if\n",
    "های تو در تو استفاده می‌کنیم\n",
    "</div>"
   ]
  },
  {
   "cell_type": "code",
   "execution_count": 29,
   "metadata": {},
   "outputs": [
    {
     "name": "stdout",
     "output_type": "stream",
     "text": [
      "7 is positive\n"
     ]
    }
   ],
   "source": [
    "nummbber = round(float(input(\"enter a number \")))\n",
    "\n",
    "if nummbber < 0:\n",
    "    if nummbber % 2 == 0:\n",
    "        print(f'{nummbber} is negative and even')\n",
    "    else :\n",
    "        print(f'{nummbber} is negative')\n",
    "elif nummbber == 0:\n",
    "    print(f'{nummbber} is 0')\n",
    "else:\n",
    "    print(f'{nummbber} is positive')\n"
   ]
  },
  {
   "cell_type": "markdown",
   "metadata": {},
   "source": [
    "<div dir = \"rtl\">\n",
    "\n",
    "بعد از \n",
    "if\n",
    "اولیه که منفی بودن عدد را بررسی می‌کند،\n",
    "if \n",
    "دیگری نیز آمده که زوج بودن آن را بررسی می‌کند.\n",
    "</div>"
   ]
  },
  {
   "cell_type": "markdown",
   "metadata": {},
   "source": [
    "# Loops حلقه‌ها"
   ]
  },
  {
   "cell_type": "markdown",
   "metadata": {},
   "source": [
    "## For loops"
   ]
  },
  {
   "cell_type": "markdown",
   "metadata": {},
   "source": [
    "<div dir = \"rtl\">\n",
    "\n",
    "\n",
    "در مقدمه درس مثالی از حلقه‌ها به وسیله \n",
    "for\n",
    "آمد. \n",
    "در واقع از حلقه\n",
    "‌for\n",
    "برای تکرار شدنی عملی بر یک دنباله تکرار پذیر استفاده می‌شود همانند لیست‌ها. در آن مثال از تابع\n",
    "range\n",
    "برای ساخت یک دنباله تکرارپذیر استفاده شده بود. در ادامه این تابع پایتون توضیح داده می‌شود و سپس کاربرد حلقه\n",
    "for\n",
    "بررسی می‌گردد.\n",
    "\n",
    "تابع \n",
    "range\n",
    "خودش به تنهایی یک متغیر از نوع رنج تولید می‌کند. \n",
    "</div>"
   ]
  },
  {
   "cell_type": "code",
   "execution_count": 37,
   "metadata": {},
   "outputs": [
    {
     "name": "stdout",
     "output_type": "stream",
     "text": [
      "range(0, 5)\n",
      "<class 'range'>\n"
     ]
    }
   ],
   "source": [
    "bb = range(5)\n",
    "print(bb)\n",
    "print(type(bb))"
   ]
  },
  {
   "cell_type": "code",
   "execution_count": 38,
   "metadata": {},
   "outputs": [
    {
     "name": "stdout",
     "output_type": "stream",
     "text": [
      "[0, 1, 2, 3, 4]\n"
     ]
    }
   ],
   "source": [
    "print(list(range(5))) #از لیست برای لیست کردن دامنه استفاده می‌کنیم"
   ]
  },
  {
   "cell_type": "markdown",
   "metadata": {},
   "source": [
    "<div dir = \"rtl\">\n",
    "\n",
    "پس\n",
    "</div>\n",
    "range(5)\n",
    "\n",
    "<div dir = \"rtl\">\n",
    "\n",
    "اعداد صفر تا 4 را پرینت می‌گیرد و در واقع عدد 5 نقطه پایانی است\n",
    "</div>"
   ]
  },
  {
   "cell_type": "code",
   "execution_count": 40,
   "metadata": {},
   "outputs": [
    {
     "name": "stdout",
     "output_type": "stream",
     "text": [
      "range(8, 16)\n",
      "[8, 9, 10, 11, 12, 13, 14, 15]\n"
     ]
    }
   ],
   "source": [
    "aa = range(8,16) #دامنه از 8 تا 15\n",
    "print(aa)\n",
    "print(list(aa)) "
   ]
  },
  {
   "cell_type": "code",
   "execution_count": 46,
   "metadata": {},
   "outputs": [
    {
     "name": "stdout",
     "output_type": "stream",
     "text": [
      "range(8, 16, 2)\n",
      "[8, 10, 12, 14]\n"
     ]
    }
   ],
   "source": [
    "aaa = range(8, 16, 2) #با دو گام\n",
    "print(aaa)\n",
    "print(list(aaa))"
   ]
  },
  {
   "cell_type": "markdown",
   "metadata": {},
   "source": [
    "<div dir =\"rtl\">\n",
    "\n",
    "حال فرض کنیم بخواهیم با گام‌های اعشاری دنباله‌ای بسازیم:\n",
    "</div>"
   ]
  },
  {
   "cell_type": "code",
   "execution_count": 50,
   "metadata": {},
   "outputs": [
    {
     "ename": "TypeError",
     "evalue": "'float' object cannot be interpreted as an integer",
     "output_type": "error",
     "traceback": [
      "\u001b[1;31m---------------------------------------------------------------------------\u001b[0m",
      "\u001b[1;31mTypeError\u001b[0m                                 Traceback (most recent call last)",
      "Cell \u001b[1;32mIn[50], line 1\u001b[0m\n\u001b[1;32m----> 1\u001b[0m cc \u001b[38;5;241m=\u001b[39m \u001b[38;5;28;43mrange\u001b[39;49m\u001b[43m(\u001b[49m\u001b[38;5;241;43m8\u001b[39;49m\u001b[43m,\u001b[49m\u001b[43m \u001b[49m\u001b[38;5;241;43m16\u001b[39;49m\u001b[43m,\u001b[49m\u001b[43m \u001b[49m\u001b[38;5;241;43m0.5\u001b[39;49m\u001b[43m)\u001b[49m\n\u001b[0;32m      2\u001b[0m \u001b[38;5;28mprint\u001b[39m(cc)\n\u001b[0;32m      3\u001b[0m \u001b[38;5;28mprint\u001b[39m(\u001b[38;5;28mlist\u001b[39m(cc))\n",
      "\u001b[1;31mTypeError\u001b[0m: 'float' object cannot be interpreted as an integer"
     ]
    }
   ],
   "source": [
    "cc = range(8, 16, 0.5)\n",
    "print(cc)\n",
    "print(list(cc))"
   ]
  },
  {
   "cell_type": "markdown",
   "metadata": {},
   "source": [
    "<div dir = \"rtl\">\n",
    "\n",
    "همانطور که پیداست تابع\n",
    "range\n",
    "توانایی درک اعداد اعشاری را ندارد. \n",
    "به منظور تولید دنباله‌ای از اعداد اعشاری باید از روشی دیگر استفاده کنیم که آن بهره گرفتن از تابع‌های سایر کتابخانه‌هاست.\n",
    "بدین منظور از کتابخانه\n",
    "numpy\n",
    "استفاده می‌کنیم و سپس تابع\n",
    "arange\n",
    "را از آن فراخوانی می‌نماییم.\n",
    "</div>"
   ]
  },
  {
   "cell_type": "code",
   "execution_count": 51,
   "metadata": {},
   "outputs": [
    {
     "name": "stdout",
     "output_type": "stream",
     "text": [
      "[ 8.   8.5  9.   9.5 10.  10.5 11.  11.5 12.  12.5 13.  13.5 14.  14.5\n",
      " 15.  15.5]\n",
      "<class 'numpy.ndarray'>\n"
     ]
    }
   ],
   "source": [
    "import numpy\n",
    "ccc = numpy.arange(8,16,0.5)\n",
    "print(ccc)\n",
    "print(type(ccc))"
   ]
  },
  {
   "cell_type": "markdown",
   "metadata": {},
   "source": [
    "<div dir =\"rtl\">\n",
    "\n",
    "پس ابتدا با\n",
    "import numpy\n",
    "کتابخانه را فراخوانی می‌کنیم و برای استفاده از تابع آن از خود کتابخانه در کنار اسم تابع باید استفاده کرد.\n",
    "</div>\n",
    "numpy.arange()\n",
    "\n",
    "<div dir =\"rtl\">\n",
    "\n",
    "منتهی روش بهتری نیز وجود دارد. تا کنون از دو کتابخانه\n",
    "math\n",
    "و \n",
    "numpy\n",
    "استفاده کردیم که اسم‌های آنها کوتاه و قابل استفاده کنار تابع کتابخانه‌اند. ولی کتابخانه‌هایی هستند که اسم‌های طولانی‌تری دارند و نوشتن آنها وقت گیر و حوصله سر بر. به همین منظور می‌توانیم به پایتون اسم مخففی بدهیم تا با آن کتابخانه  را بشناسد.\n",
    "</div>\n",
    "\n",
    "import numpy as np\n",
    "np.arange بجای numpy.aranage\n",
    "\n"
   ]
  },
  {
   "cell_type": "markdown",
   "metadata": {},
   "source": [
    "### For loops"
   ]
  },
  {
   "cell_type": "code",
   "execution_count": 54,
   "metadata": {},
   "outputs": [
    {
     "name": "stdout",
     "output_type": "stream",
     "text": [
      "1.0\n",
      "1.6\n",
      "2.2\n",
      "2.8000000000000003\n",
      "3.4000000000000004\n",
      "4.0\n",
      "4.6000000000000005\n",
      "5.200000000000001\n",
      "5.800000000000001\n",
      "6.4\n",
      "7.000000000000001\n",
      "7.600000000000001\n",
      "8.200000000000001\n",
      "8.8\n",
      "9.400000000000002\n"
     ]
    }
   ],
   "source": [
    "import numpy as np\n",
    "for i in np.arange(1,10, 0.6):\n",
    "    print(i)"
   ]
  },
  {
   "cell_type": "markdown",
   "metadata": {},
   "source": [
    "<div dir =\"rtl\">\n",
    "\n",
    "مشابه کاربرد لیست برای لیست کردن از حلقه\n",
    "for\n",
    "می‌توان برای لیست کردن دنباله مد نظر نیز استفاده کرد.\n",
    "\n",
    "می‌توان آن را با گزاره‌های \n",
    "if\n",
    "نیز ترکیب کرد\n",
    "</div>"
   ]
  },
  {
   "cell_type": "code",
   "execution_count": 6,
   "metadata": {},
   "outputs": [
    {
     "name": "stdout",
     "output_type": "stream",
     "text": [
      "10 even number\n",
      "11 odd number\n",
      "12 even number\n",
      "13 odd number\n",
      "14 even number\n",
      "15 odd number\n",
      "16 even number\n",
      "17 odd number\n",
      "18 even number\n",
      "19 odd number\n"
     ]
    }
   ],
   "source": [
    "for i in range(10,20):\n",
    "    if i % 2 == 0:\n",
    "         print(i, \"even number\")\n",
    "    else:\n",
    "         print(i, \"odd number\")"
   ]
  },
  {
   "cell_type": "code",
   "execution_count": 8,
   "metadata": {},
   "outputs": [
    {
     "name": "stdout",
     "output_type": "stream",
     "text": [
      "Bob\n"
     ]
    }
   ],
   "source": [
    "student_names = [\"Alice\", \"Amin\", \"Bob\", \"Behnam\"]\n",
    "for names in student_names:\n",
    "    if \"a\" not in names.lower():\n",
    "        print(names)"
   ]
  },
  {
   "cell_type": "markdown",
   "metadata": {},
   "source": [
    "<div dir =\"rtl\">\n",
    "\n",
    "در کد بالا لیستی از اسم چهار دانش آموز درست کردیم و از حلقه\n",
    "for\n",
    "استفاده کردیم تا بررسی کند که در کدام اسم \n",
    "a\n",
    "وجود ندارد و آن را پرینت بگیرد.\n",
    "</div>"
   ]
  },
  {
   "cell_type": "code",
   "execution_count": 12,
   "metadata": {},
   "outputs": [
    {
     "name": "stdout",
     "output_type": "stream",
     "text": [
      "2\n"
     ]
    },
    {
     "ename": "TypeError",
     "evalue": "unsupported operand type(s) for *: 'NoneType' and 'int'",
     "output_type": "error",
     "traceback": [
      "\u001b[1;31m---------------------------------------------------------------------------\u001b[0m",
      "\u001b[1;31mTypeError\u001b[0m                                 Traceback (most recent call last)",
      "Cell \u001b[1;32mIn[12], line 2\u001b[0m\n\u001b[0;32m      1\u001b[0m \u001b[38;5;28;01mfor\u001b[39;00m i \u001b[38;5;129;01min\u001b[39;00m \u001b[38;5;28mrange\u001b[39m(\u001b[38;5;241m2\u001b[39m,\u001b[38;5;241m10\u001b[39m):\n\u001b[1;32m----> 2\u001b[0m     \u001b[38;5;28;43mprint\u001b[39;49m\u001b[43m \u001b[49m\u001b[43m(\u001b[49m\u001b[43mi\u001b[49m\u001b[43m)\u001b[49m\u001b[43m \u001b[49m\u001b[38;5;241;43m*\u001b[39;49m\u001b[43m \u001b[49m\u001b[38;5;241;43m10\u001b[39;49m\n",
      "\u001b[1;31mTypeError\u001b[0m: unsupported operand type(s) for *: 'NoneType' and 'int'"
     ]
    }
   ],
   "source": [
    "for i in range(2,10):\n",
    "    print (i) * 10\n"
   ]
  },
  {
   "cell_type": "code",
   "execution_count": 13,
   "metadata": {},
   "outputs": [
    {
     "name": "stdout",
     "output_type": "stream",
     "text": [
      "10\n",
      "<class 'NoneType'>\n"
     ]
    }
   ],
   "source": [
    "a5 = 10\n",
    "\n",
    "print(type(print(a5)))"
   ]
  },
  {
   "cell_type": "markdown",
   "metadata": {},
   "source": [
    "<div dir =\"rtl\">\n",
    "\n",
    "در جلسه‌ گذشته مطرح شد که \n",
    "none \n",
    "چه نوع متغیری است.\n",
    "هنگامی که\n",
    "</div>\n",
    "print(i) * 10\n",
    "<div dir = \"rtl\">\n",
    "\n",
    "اجرا می‌شود در واقع\n",
    "i\n",
    "به عنوان متغیر هیچ در نظر گرفته می‌شود چون طبق کد بعدی خود تابع\n",
    "print\n",
    "متغیر هیچ می‌دهد. پس باید کد جوری نوشته شود که هویت متغیرها با یکدیگر سازگاری داشته باشند.\n",
    "</div>\n",
    "\n"
   ]
  },
  {
   "cell_type": "code",
   "execution_count": 14,
   "metadata": {},
   "outputs": [
    {
     "name": "stdout",
     "output_type": "stream",
     "text": [
      "20\n",
      "30\n",
      "40\n",
      "50\n",
      "60\n",
      "70\n",
      "80\n",
      "90\n"
     ]
    }
   ],
   "source": [
    "for i in range(2,10):\n",
    "    print (i * 10)\n"
   ]
  },
  {
   "cell_type": "markdown",
   "metadata": {},
   "source": [
    "<div dir= \"rtl\">\n",
    "\n",
    "می‌توان از \n",
    "break\n",
    "و \n",
    "continue\n",
    "جهت متوقف کردن یا ادامه یک دستور نیز استفاده کرد\n",
    "</div>"
   ]
  },
  {
   "cell_type": "code",
   "execution_count": 16,
   "metadata": {},
   "outputs": [
    {
     "name": "stdout",
     "output_type": "stream",
     "text": [
      "0\n",
      "1\n",
      "2\n",
      "3\n",
      "4\n"
     ]
    }
   ],
   "source": [
    "for i in range(10):\n",
    "    if i == 5:\n",
    "        break\n",
    "    print(i)"
   ]
  },
  {
   "cell_type": "code",
   "execution_count": 17,
   "metadata": {},
   "outputs": [
    {
     "name": "stdout",
     "output_type": "stream",
     "text": [
      "0\n",
      "1\n",
      "2\n",
      "3\n",
      "4\n",
      "6\n",
      "7\n",
      "8\n",
      "9\n"
     ]
    }
   ],
   "source": [
    "for i in range(10):\n",
    "    if i == 5:\n",
    "        continue\n",
    "    print(i)"
   ]
  },
  {
   "cell_type": "markdown",
   "metadata": {},
   "source": [
    "<div dir =\"rtl\">\n",
    "\n",
    "زمانی که به شرط می‌رسد طبق دستور\n",
    "for\n",
    "روی دنباله کاری که خواسته شده را (پرینت گرفتن) ادامه می‌دهد.\n",
    "</div>"
   ]
  },
  {
   "cell_type": "code",
   "execution_count": 18,
   "metadata": {},
   "outputs": [
    {
     "name": "stdout",
     "output_type": "stream",
     "text": [
      "0 0\n",
      "0 1\n",
      "0 2\n",
      "1 0\n",
      "1 1\n",
      "1 2\n",
      "2 0\n",
      "2 1\n",
      "2 2\n",
      "3 0\n",
      "3 1\n",
      "3 2\n"
     ]
    }
   ],
   "source": [
    "for i in range(4):\n",
    "    for j in range(3):\n",
    "        print(i, j)\n"
   ]
  },
  {
   "cell_type": "markdown",
   "metadata": {},
   "source": [
    "<div dir = \"rtl\">\n",
    "\n",
    "کد بالا یک حلقه\n",
    "for\n",
    "تو در تو است. \n",
    "کاری که انجام می‌شود این است: اعداد 0 تا 2 طبق حلقه درونی پرینت می‌شوند و طبق حلقه بیرونی هر کدام چهار بار تکرار می‌گردند\n",
    "</div>"
   ]
  },
  {
   "cell_type": "markdown",
   "metadata": {},
   "source": [
    "# While loops"
   ]
  },
  {
   "cell_type": "code",
   "execution_count": 1,
   "metadata": {},
   "outputs": [
    {
     "name": "stdout",
     "output_type": "stream",
     "text": [
      "Access granted.\n"
     ]
    }
   ],
   "source": [
    "correct_password = \"macro123\"\n",
    "while True:\n",
    "    password = input(\"Enter password: \")\n",
    "    if password == correct_password:\n",
    "        break\n",
    "   \n",
    "print(\"Access granted.\")\n"
   ]
  },
  {
   "cell_type": "code",
   "execution_count": 2,
   "metadata": {},
   "outputs": [
    {
     "name": "stdout",
     "output_type": "stream",
     "text": [
      "1\n",
      "2\n",
      "3\n",
      "4\n",
      "5\n"
     ]
    }
   ],
   "source": [
    "numbers = range(1, 11) \n",
    "i = 0  \n",
    "\n",
    "while i < len(numbers) and numbers[i] <= 5:\n",
    "    print(numbers[i])\n",
    "    i += 1"
   ]
  },
  {
   "cell_type": "markdown",
   "metadata": {},
   "source": [
    "# Exercises"
   ]
  },
  {
   "cell_type": "markdown",
   "metadata": {},
   "source": [
    "<div dir = \"rtl\">\n",
    "\n",
    "1. تابعی تعریف کنید که تابعی صلاحیت قانونی یک فرد را برای رانندگی به وسیله سن و داشتن گواهینامه بررسی کند\n",
    "\n",
    "راهنمایی: باید از بولین \n",
    "and\n",
    "و\n",
    "and not\n",
    "استفاده کنید\n",
    "</div>"
   ]
  },
  {
   "cell_type": "markdown",
   "metadata": {},
   "source": [
    "<div dir=\"rtl\">\n",
    "\n",
    "2. یک برنامه بنویسید که از کاربر چند عدد دریافت کرده و آن‌ها را در یک لیست ذخیره کند، سپس میانگین عددهای لیست را محاسبه و پرینت کند.\n",
    "</div>"
   ]
  },
  {
   "cell_type": "markdown",
   "metadata": {},
   "source": [
    "<div dir = \"rtl\">\n",
    "3.\n",
    "یک حلقه\n",
    "while\n",
    "تعریف کنید که تا زمانی که عدد منفی نباشد به پرینت کردن عدد وارده توسط کاربر ادامه دهد\n",
    "</div>"
   ]
  },
  {
   "cell_type": "markdown",
   "metadata": {},
   "source": [
    "<div dir = \"rtl\">\n",
    "\n",
    "\n",
    "4:\n",
    "یک برنامه بنویسید که از کاربر اطلاعات یک دانشجو شامل نام، معدل و سال ورود را دریافت کند. سپس در صورتی که معدل دانشجو بالاتر از 17 باشد و سال ورود آن‌ها 2020 یا بعد از آن باشد پیام \"Outstanding student\" را چاپ کند.\n",
    "\n",
    "</div>"
   ]
  },
  {
   "cell_type": "markdown",
   "metadata": {},
   "source": [
    "<div dir = \"rtl\">\n",
    "\n",
    "5.\n",
    "حلقه‌ی\n",
    "for\n",
    "تعریف که اعداد 1 تا 15 را پرینت بگیرد و آنهایی که فرد هستند را به توان 2 برساند\n",
    "</div>"
   ]
  }
 ],
 "metadata": {
  "kernelspec": {
   "display_name": "Python 3 (ipykernel)",
   "language": "python",
   "name": "python3"
  },
  "language_info": {
   "codemirror_mode": {
    "name": "ipython",
    "version": 3
   },
   "file_extension": ".py",
   "mimetype": "text/x-python",
   "name": "python",
   "nbconvert_exporter": "python",
   "pygments_lexer": "ipython3",
   "version": "3.9.13"
  }
 },
 "nbformat": 4,
 "nbformat_minor": 4
}
